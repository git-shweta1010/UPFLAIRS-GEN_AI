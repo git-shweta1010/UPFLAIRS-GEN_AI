{
 "cells": [
  {
   "cell_type": "code",
   "execution_count": 2,
   "id": "ba92c5a2",
   "metadata": {},
   "outputs": [],
   "source": [
    "##faiss - facebook AI similarity search library\n",
    "##smiliarty search \n"
   ]
  },
  {
   "cell_type": "code",
   "execution_count": 1,
   "id": "942cb401",
   "metadata": {},
   "outputs": [],
   "source": [
    "from langchain_community.document_loaders import TextLoader\n",
    "from langchain_community.embeddings import OllamaEmbeddings\n",
    "from langchain_community.vectorstores import FAISS\n",
    "from langchain.text_splitter import CharacterTextSplitter"
   ]
  },
  {
   "cell_type": "code",
   "execution_count": 3,
   "id": "b60c7d98",
   "metadata": {},
   "outputs": [
    {
     "name": "stderr",
     "output_type": "stream",
     "text": [
      "Created a chunk of size 470, which is longer than the specified 100\n",
      "Created a chunk of size 347, which is longer than the specified 100\n",
      "Created a chunk of size 670, which is longer than the specified 100\n",
      "Created a chunk of size 984, which is longer than the specified 100\n",
      "Created a chunk of size 791, which is longer than the specified 100\n"
     ]
    }
   ],
   "source": [
    "loader = TextLoader(r\"C:\\Users\\jaikr\\OneDrive\\Desktop\\SITP_2june_batch\\GEN AI\\Components_of_Langchain\\1 - Data Ingestion\\speech.txt\")\n",
    "docs = loader.load()\n",
    "text_splitter = CharacterTextSplitter(chunk_size=100, chunk_overlap=30)\n",
    "docs = text_splitter.split_documents(docs)"
   ]
  },
  {
   "cell_type": "code",
   "execution_count": 4,
   "id": "fbabe9cc",
   "metadata": {},
   "outputs": [
    {
     "name": "stderr",
     "output_type": "stream",
     "text": [
      "C:\\Users\\jaikr\\AppData\\Local\\Temp\\ipykernel_12612\\431924958.py:1: LangChainDeprecationWarning: The class `OllamaEmbeddings` was deprecated in LangChain 0.3.1 and will be removed in 1.0.0. An updated version of the class exists in the :class:`~langchain-ollama package and should be used instead. To use it run `pip install -U :class:`~langchain-ollama` and import as `from :class:`~langchain_ollama import OllamaEmbeddings``.\n",
      "  embed = OllamaEmbeddings()\n"
     ]
    },
    {
     "data": {
      "text/plain": [
       "<langchain_community.vectorstores.faiss.FAISS at 0x2b2ec4ad010>"
      ]
     },
     "execution_count": 4,
     "metadata": {},
     "output_type": "execute_result"
    }
   ],
   "source": [
    "embed = OllamaEmbeddings()\n",
    "vectorstore = FAISS.from_documents(docs, embed)\n",
    "vectorstore"
   ]
  },
  {
   "cell_type": "code",
   "execution_count": 5,
   "id": "d1efb96c",
   "metadata": {},
   "outputs": [
    {
     "data": {
      "text/plain": [
       "[Document(id='789d67c4-3aa8-4bae-bd3a-81a48234b851', metadata={'source': 'C:\\\\Users\\\\jaikr\\\\OneDrive\\\\Desktop\\\\SITP_2june_batch\\\\GEN AI\\\\Components_of_Langchain\\\\1 - Data Ingestion\\\\speech.txt'}, page_content='It is a distressing and oppressive duty, gentlemen of the Congress, which I have performed in thus addressing you. There are, it may be, many months of fiery trial and sacrifice ahead of us. It is a fearful thing to lead this great peaceful people into war, into the most terrible and disastrous of all wars, civilization itself seeming to be in the balance. But the right is more precious than peace, and we shall fight for the things which we have always carried nearest our heartsâ€”for democracy, for the right of those who submit to authority to have a voice in their own governments, for the rights and liberties of small nations, for a universal dominion of right by such a concert of free peoples as shall bring peace and safety to all nations and make the world itself at last free.'),\n",
       " Document(id='2065f37f-7ef0-45ca-8752-35b3db8c0c90', metadata={'source': 'C:\\\\Users\\\\jaikr\\\\OneDrive\\\\Desktop\\\\SITP_2june_batch\\\\GEN AI\\\\Components_of_Langchain\\\\1 - Data Ingestion\\\\speech.txt'}, page_content='To such a task we can dedicate our lives and our fortunes, everything that we are and everything that we have, with the pride of those who know that the day has come when America is privileged to spend her blood and her might for the principles that gave her birth and happiness and the peace which she has treasured. God helping her, she can do no other.'),\n",
       " Document(id='fdeedfdb-c3ba-45fd-9c47-9450dc38b431', metadata={'source': 'C:\\\\Users\\\\jaikr\\\\OneDrive\\\\Desktop\\\\SITP_2june_batch\\\\GEN AI\\\\Components_of_Langchain\\\\1 - Data Ingestion\\\\speech.txt'}, page_content='It will be all the easier for us to conduct ourselves as belligerents in a high spirit of right and fairness because we act without animus, not in enmity toward a people or with the desire to bring any injury or disadvantage upon them, but only in armed opposition to an irresponsible government which has thrown aside all considerations of humanity and of right and is running amuck. We are, let me say again, the sincere friends of the German people, and shall desire nothing so much as the early reestablishment of intimate relations of mutual advantage between usâ€”however hard it may be for them, for the time being, to believe that this is spoken from our hearts.'),\n",
       " Document(id='e84ccfdb-fb68-4dd1-88f3-d538a485f287', metadata={'source': 'C:\\\\Users\\\\jaikr\\\\OneDrive\\\\Desktop\\\\SITP_2june_batch\\\\GEN AI\\\\Components_of_Langchain\\\\1 - Data Ingestion\\\\speech.txt'}, page_content='The world must be made safe for democracy. Its peace must be planted upon the tested foundations of political liberty. We have no selfish ends to serve. We desire no conquest, no dominion. We seek no indemnities for ourselves, no material compensation for the sacrifices we shall freely make. We are but one of the champions of the rights of mankind. We shall be satisfied when those rights have been made as secure as the faith and the freedom of nations can make them.')]"
      ]
     },
     "execution_count": 5,
     "metadata": {},
     "output_type": "execute_result"
    }
   ],
   "source": [
    "##query\n",
    "\n",
    "query =\"The world must be made safe for democracy\"\n",
    "answer = vectorstore.similarity_search(query) \n",
    "answer\n"
   ]
  },
  {
   "cell_type": "code",
   "execution_count": 6,
   "id": "ca4707a1",
   "metadata": {},
   "outputs": [
    {
     "data": {
      "text/plain": [
       "[(Document(id='789d67c4-3aa8-4bae-bd3a-81a48234b851', metadata={'source': 'C:\\\\Users\\\\jaikr\\\\OneDrive\\\\Desktop\\\\SITP_2june_batch\\\\GEN AI\\\\Components_of_Langchain\\\\1 - Data Ingestion\\\\speech.txt'}, page_content='It is a distressing and oppressive duty, gentlemen of the Congress, which I have performed in thus addressing you. There are, it may be, many months of fiery trial and sacrifice ahead of us. It is a fearful thing to lead this great peaceful people into war, into the most terrible and disastrous of all wars, civilization itself seeming to be in the balance. But the right is more precious than peace, and we shall fight for the things which we have always carried nearest our heartsâ€”for democracy, for the right of those who submit to authority to have a voice in their own governments, for the rights and liberties of small nations, for a universal dominion of right by such a concert of free peoples as shall bring peace and safety to all nations and make the world itself at last free.'),\n",
       "  16236.7),\n",
       " (Document(id='2065f37f-7ef0-45ca-8752-35b3db8c0c90', metadata={'source': 'C:\\\\Users\\\\jaikr\\\\OneDrive\\\\Desktop\\\\SITP_2june_batch\\\\GEN AI\\\\Components_of_Langchain\\\\1 - Data Ingestion\\\\speech.txt'}, page_content='To such a task we can dedicate our lives and our fortunes, everything that we are and everything that we have, with the pride of those who know that the day has come when America is privileged to spend her blood and her might for the principles that gave her birth and happiness and the peace which she has treasured. God helping her, she can do no other.'),\n",
       "  16320.729),\n",
       " (Document(id='fdeedfdb-c3ba-45fd-9c47-9450dc38b431', metadata={'source': 'C:\\\\Users\\\\jaikr\\\\OneDrive\\\\Desktop\\\\SITP_2june_batch\\\\GEN AI\\\\Components_of_Langchain\\\\1 - Data Ingestion\\\\speech.txt'}, page_content='It will be all the easier for us to conduct ourselves as belligerents in a high spirit of right and fairness because we act without animus, not in enmity toward a people or with the desire to bring any injury or disadvantage upon them, but only in armed opposition to an irresponsible government which has thrown aside all considerations of humanity and of right and is running amuck. We are, let me say again, the sincere friends of the German people, and shall desire nothing so much as the early reestablishment of intimate relations of mutual advantage between usâ€”however hard it may be for them, for the time being, to believe that this is spoken from our hearts.'),\n",
       "  17320.402),\n",
       " (Document(id='e84ccfdb-fb68-4dd1-88f3-d538a485f287', metadata={'source': 'C:\\\\Users\\\\jaikr\\\\OneDrive\\\\Desktop\\\\SITP_2june_batch\\\\GEN AI\\\\Components_of_Langchain\\\\1 - Data Ingestion\\\\speech.txt'}, page_content='The world must be made safe for democracy. Its peace must be planted upon the tested foundations of political liberty. We have no selfish ends to serve. We desire no conquest, no dominion. We seek no indemnities for ourselves, no material compensation for the sacrifices we shall freely make. We are but one of the champions of the rights of mankind. We shall be satisfied when those rights have been made as secure as the faith and the freedom of nations can make them.'),\n",
       "  18968.133)]"
      ]
     },
     "execution_count": 6,
     "metadata": {},
     "output_type": "execute_result"
    }
   ],
   "source": [
    "##score \n",
    "docs_with_score = vectorstore.similarity_search_with_score(query)\n",
    "docs_with_score"
   ]
  },
  {
   "cell_type": "code",
   "execution_count": null,
   "id": "cffa974f",
   "metadata": {},
   "outputs": [],
   "source": []
  }
 ],
 "metadata": {
  "kernelspec": {
   "display_name": "Python 3",
   "language": "python",
   "name": "python3"
  },
  "language_info": {
   "codemirror_mode": {
    "name": "ipython",
    "version": 3
   },
   "file_extension": ".py",
   "mimetype": "text/x-python",
   "name": "python",
   "nbconvert_exporter": "python",
   "pygments_lexer": "ipython3",
   "version": "3.11.9"
  }
 },
 "nbformat": 4,
 "nbformat_minor": 5
}
