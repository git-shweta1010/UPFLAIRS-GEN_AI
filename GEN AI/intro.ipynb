{
 "cells": [
  {
   "cell_type": "code",
   "execution_count": null,
   "id": "edd00c48",
   "metadata": {},
   "outputs": [],
   "source": [
    "##gen ai --- category of ai models --- used to generate text, images, music, video\n",
    "##transformers is the architecture of gen ai models\n",
    "##gen ai -- chatgpt , dall-e , midjourney, gemini , "
   ]
  },
  {
   "cell_type": "code",
   "execution_count": null,
   "id": "10e1b813",
   "metadata": {},
   "outputs": [],
   "source": [
    "##models ---\n",
    "#1 -- training \n",
    "#2 -- learning patterns --- without human intervention\n",
    "#3 -- generation "
   ]
  },
  {
   "cell_type": "code",
   "execution_count": null,
   "id": "dcf9f6c1",
   "metadata": {},
   "outputs": [],
   "source": [
    "## LLM - large language model\n",
    "## a type of ai model trained on huge amount of text data to understand \n",
    "# and generate human language \n",
    "##gpt-4 , gemini , claude , LLama3 , mistral "
   ]
  },
  {
   "cell_type": "code",
   "execution_count": null,
   "id": "94ac7ed7",
   "metadata": {},
   "outputs": [],
   "source": [
    "#how llms work \n",
    "#1 pre training \n",
    "#2 fine tuning (optional) -- training on specific task\n",
    "## parameters - hugging face transformers , LORA/QLORA\n",
    "#3 prompting -- giving input to the model to generate output"
   ]
  },
  {
   "cell_type": "code",
   "execution_count": null,
   "id": "04bcc4b6",
   "metadata": {},
   "outputs": [],
   "source": [
    "# 1967 - eliza \n",
    "# 2018 - bert gpt \n"
   ]
  },
  {
   "cell_type": "code",
   "execution_count": null,
   "id": "82a208b2",
   "metadata": {},
   "outputs": [],
   "source": [
    "#Langchhain \n",
    "# open ai  -- paid \n",
    "# ollama -- open source -- free\n",
    "# hugging face - free\n",
    "#groq ai - free\n"
   ]
  },
  {
   "cell_type": "code",
   "execution_count": null,
   "id": "34a862d4",
   "metadata": {},
   "outputs": [],
   "source": [
    "#langchain --- is an open source python nad javascript  framework \n",
    "# that helps you build applications with LLMs by providing \n",
    "# # modular componnents and integrations \n",
    "# ##components -- \n",
    "# chains -- seq of llm calls and logic \n",
    "# agents = dynamic decison making using tools \n",
    "# tools -- \n",
    "# memory \n",
    "# document loaders --- load data from different sources  \n",
    "#retrievers -- find relevent data from memory of your model "
   ]
  },
  {
   "cell_type": "code",
   "execution_count": null,
   "id": "892ef562",
   "metadata": {},
   "outputs": [],
   "source": [
    "##langchain ecosystem \n",
    "# langsmith -- debugging, playgroud , evaluation , monitor \n",
    "# langserve --- deployment \n",
    "# templates --- prompt templates\n",
    "# langchain -- chains , agents , reteirval "
   ]
  }
 ],
 "metadata": {
  "kernelspec": {
   "display_name": "Python 3",
   "language": "python",
   "name": "python3"
  },
  "language_info": {
   "codemirror_mode": {
    "name": "ipython",
    "version": 3
   },
   "file_extension": ".py",
   "mimetype": "text/x-python",
   "name": "python",
   "nbconvert_exporter": "python",
   "pygments_lexer": "ipython3",
   "version": "3.11.9"
  }
 },
 "nbformat": 4,
 "nbformat_minor": 5
}
