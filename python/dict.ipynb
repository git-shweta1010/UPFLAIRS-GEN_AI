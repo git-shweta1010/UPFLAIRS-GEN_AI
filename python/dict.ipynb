{
 "cells": [
  {
   "cell_type": "code",
   "execution_count": null,
   "id": "c0d6490f",
   "metadata": {},
   "outputs": [],
   "source": [
    "##dict -- order, mutable, indexed, allows duplicate values\n",
    "##dict -- key value pair\n",
    "## {}"
   ]
  },
  {
   "cell_type": "code",
   "execution_count": 14,
   "id": "2a3182d5",
   "metadata": {},
   "outputs": [
    {
     "name": "stdout",
     "output_type": "stream",
     "text": [
      "{'name': 'Upflairs', 'course': 'Data Science', 'duration': 45}\n",
      "<class 'dict'>\n"
     ]
    }
   ],
   "source": [
    "dt = {\n",
    "    \"name\" : \"Upflairs\",\n",
    "    \"course\" : \"Data Science\",\n",
    "    \"duration\" : 45\n",
    "}\n",
    "\n",
    "print(dt)\n",
    "print(type(dt))"
   ]
  },
  {
   "cell_type": "code",
   "execution_count": 5,
   "id": "70fe51f5",
   "metadata": {},
   "outputs": [
    {
     "data": {
      "text/plain": [
       "{'name': 'up', 'course': 'Data Science', 'duration': 45}"
      ]
     },
     "execution_count": 5,
     "metadata": {},
     "output_type": "execute_result"
    }
   ],
   "source": [
    "dt[\"name\"] = \"up\"\n",
    "dt"
   ]
  },
  {
   "cell_type": "code",
   "execution_count": 16,
   "id": "89db22ab",
   "metadata": {},
   "outputs": [
    {
     "data": {
      "text/plain": [
       "{'name': 'google', 'course': 'Data Science', 'age': 10}"
      ]
     },
     "execution_count": 16,
     "metadata": {},
     "output_type": "execute_result"
    }
   ],
   "source": [
    "# dt.get(\"name\")\n",
    "# dt.items()    ##key value pair\n",
    "# dt.keys()\n",
    "# dt.values()\n",
    "# dt.pop(\"name\")\n",
    "# dt.popitem()\n",
    "dt.update({\"name\" : \"google\",\"age\" : 10})\n",
    "\n",
    "dt"
   ]
  },
  {
   "cell_type": "code",
   "execution_count": null,
   "id": "ba3beb59",
   "metadata": {},
   "outputs": [],
   "source": []
  },
  {
   "cell_type": "code",
   "execution_count": null,
   "id": "9a2fe0ec",
   "metadata": {},
   "outputs": [],
   "source": []
  }
 ],
 "metadata": {
  "kernelspec": {
   "display_name": "Python 3",
   "language": "python",
   "name": "python3"
  },
  "language_info": {
   "codemirror_mode": {
    "name": "ipython",
    "version": 3
   },
   "file_extension": ".py",
   "mimetype": "text/x-python",
   "name": "python",
   "nbconvert_exporter": "python",
   "pygments_lexer": "ipython3",
   "version": "3.11.9"
  }
 },
 "nbformat": 4,
 "nbformat_minor": 5
}
