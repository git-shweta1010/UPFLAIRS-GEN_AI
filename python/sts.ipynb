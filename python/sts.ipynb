{
 "cells": [
  {
   "cell_type": "code",
   "execution_count": null,
   "id": "e0a026c1",
   "metadata": {},
   "outputs": [],
   "source": [
    "##set is a collection of unique items\n",
    "##immutable --- add,remove,update\n",
    "##unordered\n",
    "##no indexing\n",
    "#do not allow duplicate values\n",
    "## mathematic operations "
   ]
  },
  {
   "cell_type": "code",
   "execution_count": null,
   "id": "54268a8b",
   "metadata": {},
   "outputs": [
    {
     "name": "stdout",
     "output_type": "stream",
     "text": [
      "{1, 2, 3, 'hello'}\n",
      "<class 'set'>\n"
     ]
    }
   ],
   "source": [
    "st = {\"hello\",1,2,3,True,\"hello\"}\n",
    "## 1--- true \n",
    "##0 --- false \n",
    "print(st)\n",
    "print(type(st))"
   ]
  },
  {
   "cell_type": "code",
   "execution_count": null,
   "id": "492a4831",
   "metadata": {},
   "outputs": [
    {
     "name": "stdout",
     "output_type": "stream",
     "text": [
      "{2, 3, 4}\n"
     ]
    }
   ],
   "source": [
    "st = {1,2,3,4}\n",
    "# st.add(\"hello\")\n",
    "# st.update([\"hello\",\"world\"])\n",
    "# st.remove(\"hello\")\n",
    "# st.discard(\"hello\")\n",
    "# st.pop()\n",
    "print(st)"
   ]
  },
  {
   "cell_type": "code",
   "execution_count": null,
   "id": "6c39dc93",
   "metadata": {},
   "outputs": [
    {
     "name": "stdout",
     "output_type": "stream",
     "text": [
      "{1}\n"
     ]
    }
   ],
   "source": [
    "# st1 = {1,2}\n",
    "# st2 = {2,3}\n",
    "#Returns a new set with all elements from both sets.\n",
    "# st1.union(st2)\n",
    "#Returns elements common to both sets.\n",
    "# st1.intersection(st2)\n",
    "# Returns elements that are in the first set but not in the second.\n",
    "# st1.difference(st2)\n",
    "#Returns elements in either of the sets but not both.\n",
    "# st1.symmetric_difference(st2)\n",
    "# a = {1, 2}\n",
    "# b = {1, 2, 3}\n",
    "#Checks if all elements of one set are in another.\n",
    "# a.issubset(b)\n",
    "# Checks if one set contains all elements of another.\n",
    "# a.issuperset(b)\n",
    "# Returns True if sets have no elements in common.\n",
    "# a.isdisjoint(b)\n",
    "\n",
    "a = {1, 2, 3}\n",
    "b = {2, 3, 4}\n",
    "# Updates the set to keep only items found in both sets.\n",
    "# a.intersection_update(b)\n",
    "# Removes elements found in another set from the current set.\n",
    "# a.difference_update(b)\n",
    "# Updates the set to the symmetric difference of itself and another.\n",
    "# a.symmetric_difference_update(b)\n",
    "print(a)\n"
   ]
  },
  {
   "cell_type": "code",
   "execution_count": null,
   "id": "8e0b782e",
   "metadata": {},
   "outputs": [],
   "source": []
  },
  {
   "cell_type": "code",
   "execution_count": null,
   "id": "11a4e800",
   "metadata": {},
   "outputs": [],
   "source": []
  },
  {
   "cell_type": "code",
   "execution_count": null,
   "id": "85aaa31a",
   "metadata": {},
   "outputs": [],
   "source": []
  },
  {
   "cell_type": "code",
   "execution_count": null,
   "id": "2be2de8e",
   "metadata": {},
   "outputs": [],
   "source": []
  }
 ],
 "metadata": {
  "kernelspec": {
   "display_name": "Python 3",
   "language": "python",
   "name": "python3"
  },
  "language_info": {
   "codemirror_mode": {
    "name": "ipython",
    "version": 3
   },
   "file_extension": ".py",
   "mimetype": "text/x-python",
   "name": "python",
   "nbconvert_exporter": "python",
   "pygments_lexer": "ipython3",
   "version": "3.11.9"
  }
 },
 "nbformat": 4,
 "nbformat_minor": 5
}
