{
 "cells": [
  {
   "cell_type": "code",
   "execution_count": null,
   "id": "33a4efa6",
   "metadata": {},
   "outputs": [],
   "source": [
    "#python is object oriented programming language\n",
    "## features -- code resuse , scalability , maintainability\n",
    "##class , object , method , constructor\n",
    "## 4 pillars\n",
    "## 1. Abstraction\n",
    "## 2. Encapsulation\n",
    "## 3. Inheritance -- single , multiple , multi level , hybrid , hierarchical\n",
    "## 4. Polymorphism"
   ]
  },
  {
   "cell_type": "code",
   "execution_count": null,
   "id": "abc4bb15",
   "metadata": {},
   "outputs": [],
   "source": [
    "#cclass -- a blueprint for creating object \n",
    "#object -- instance of a class\n",
    "##instance -- is a cpoy of a class that you can use \n",
    "\n",
    "# recipe ----class \n",
    "# object  --- real world object\n",
    "\n",
    "# house --- example "
   ]
  },
  {
   "cell_type": "code",
   "execution_count": null,
   "id": "ebeb71c1",
   "metadata": {},
   "outputs": [
    {
     "name": "stdout",
     "output_type": "stream",
     "text": [
      "100 200\n",
      "300\n"
     ]
    }
   ],
   "source": [
    "class Car:\n",
    "    ##class variable\n",
    "    num1 = 100\n",
    "    num2 = 200\n",
    "    # function vs method \n",
    "\n",
    "    def add(self):\n",
    "        print(self.num1 + self.num2)\n",
    "    def display(self):\n",
    "        print(self.num1 , self.num2)\n",
    "\n",
    "##creating object  -- agar aapko class ke bahar \n",
    "#class ke methods ya properties ko access krna hai toh\n",
    "#object ke through access kroge\n",
    "obj=Car()\n",
    "obj.display()\n",
    "obj.add()\n"
   ]
  },
  {
   "cell_type": "code",
   "execution_count": null,
   "id": "eebdafc0",
   "metadata": {},
   "outputs": [],
   "source": [
    "#xonstructor -- is a special method that is called\n",
    "#  when an object is created\n",
    "#it is used to initialize the varibles\n",
    "## __init__"
   ]
  },
  {
   "cell_type": "code",
   "execution_count": 7,
   "id": "f7abeb15",
   "metadata": {},
   "outputs": [
    {
     "name": "stdout",
     "output_type": "stream",
     "text": [
      "100 2000000000000000\n",
      "2000000000000100\n"
     ]
    }
   ],
   "source": [
    "class number:\n",
    "    def __init__(self,no1,no2):\n",
    "        self.no1=no1\n",
    "        self.no2=no2\n",
    "\n",
    "    def add(self):\n",
    "        print(self.no1 + self.no2)\n",
    "    def display(self):\n",
    "        print(self.no1 , self.no2)\n",
    "\n",
    "obj=number(100,2000000000000000)\n",
    "obj.display()\n",
    "obj.add()"
   ]
  },
  {
   "cell_type": "code",
   "execution_count": 9,
   "id": "c27974b5",
   "metadata": {},
   "outputs": [
    {
     "name": "stdout",
     "output_type": "stream",
     "text": [
      "bmw audi\n",
      "bmw ---audi\n"
     ]
    }
   ],
   "source": [
    "##inheritance -- single , multiple , multi level , hybrid , hierarchical\n",
    "##parent class ----child class \n",
    "\n",
    "#single inheritance --- ek parent class and ek child class \n",
    "\n",
    "class Car:\n",
    "    car1 = \"bmw\"\n",
    "    car2 = \"audi\"\n",
    "    def display(self):\n",
    "        print(self.car1 , self.car2)\n",
    "\n",
    "\n",
    "class modifiedcar(Car):\n",
    "    def add(self):\n",
    "        print(self.car1 +\" ---\" +self.car2)\n",
    "    def display(self):\n",
    "        print(self.car1 , self.car2)\n",
    "\n",
    "obj=modifiedcar()\n",
    "obj.display()\n",
    "obj.add()\n",
    "\n"
   ]
  },
  {
   "cell_type": "code",
   "execution_count": null,
   "id": "d42fb5ac",
   "metadata": {},
   "outputs": [],
   "source": [
    "##super keyword \n",
    "class Animal:\n",
    "    def __init__(self, name):\n",
    "        self.name = name\n",
    "\n",
    "    def speak(self):\n",
    "        print(f\"{self.name} makes a sound\")\n",
    "\n",
    "class Dog(Animal):\n",
    "    def __init__(self, name, breed):\n",
    "        # Call the constructor of the parent class\n",
    "        super().__init__(name)\n",
    "        self.breed = breed\n",
    "\n",
    "    def speak(self):\n",
    "        # Call the speak method of the parent class\n",
    "        super().speak()\n",
    "        print(f\"{self.name} barks\")\n",
    "\n",
    "# Creating an object of Dog\n",
    "d = Dog(\"Tommy\", \"Labrador\")\n",
    "d.speak()\n"
   ]
  }
 ],
 "metadata": {
  "kernelspec": {
   "display_name": "Python 3",
   "language": "python",
   "name": "python3"
  },
  "language_info": {
   "codemirror_mode": {
    "name": "ipython",
    "version": 3
   },
   "file_extension": ".py",
   "mimetype": "text/x-python",
   "name": "python",
   "nbconvert_exporter": "python",
   "pygments_lexer": "ipython3",
   "version": "3.11.9"
  }
 },
 "nbformat": 4,
 "nbformat_minor": 5
}
