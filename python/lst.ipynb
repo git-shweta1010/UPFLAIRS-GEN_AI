{
 "cells": [
  {
   "cell_type": "code",
   "execution_count": 1,
   "id": "c6976bfd",
   "metadata": {},
   "outputs": [],
   "source": [
    "# list --> collection of items --- []\n",
    "\n",
    "# list is mutable(changeable)\n",
    "# list is ordered\n",
    "# list is indexed\n",
    "#list allow duplicate values\n",
    "#list is heterogeneous (mixed data types)\n"
   ]
  },
  {
   "cell_type": "code",
   "execution_count": 2,
   "id": "d9582d1c",
   "metadata": {},
   "outputs": [
    {
     "name": "stdout",
     "output_type": "stream",
     "text": [
      "[1, 2, 'hello', 33.45, 'python', True]\n",
      "<class 'list'>\n"
     ]
    }
   ],
   "source": [
    "lst = [1,2,\"hello\",33.45,\"python\",True]\n",
    "print(lst)\n",
    "print(type(lst))"
   ]
  },
  {
   "cell_type": "code",
   "execution_count": 3,
   "id": "1ff4dc99",
   "metadata": {},
   "outputs": [
    {
     "name": "stdout",
     "output_type": "stream",
     "text": [
      "10.0\n"
     ]
    }
   ],
   "source": [
    "##type casting  -- data type conversion \n",
    "a = 10 \n",
    "b = float(a)\n",
    "print(b)"
   ]
  },
  {
   "cell_type": "code",
   "execution_count": 4,
   "id": "a3942b8d",
   "metadata": {},
   "outputs": [
    {
     "name": "stdout",
     "output_type": "stream",
     "text": [
      "6\n"
     ]
    }
   ],
   "source": [
    "#length -- len() --- number of items in list\n",
    "print(len(lst))"
   ]
  },
  {
   "cell_type": "code",
   "execution_count": 5,
   "id": "1a68ac98",
   "metadata": {},
   "outputs": [
    {
     "name": "stdout",
     "output_type": "stream",
     "text": [
      "['green', 'blue', 'white']\n"
     ]
    }
   ],
   "source": [
    "##updating item by the index value\n",
    "lst = [\"red\",\"black\",\"blue\",\"white\"]\n",
    "lst[0:2] = [\"green\"]\n",
    "##no of items w eare accessing are less and no of item \n",
    "#we are replacing are more\n",
    "print(lst)\n"
   ]
  },
  {
   "cell_type": "code",
   "execution_count": null,
   "id": "7803f74a",
   "metadata": {},
   "outputs": [
    {
     "ename": "NameError",
     "evalue": "name 'lst' is not defined",
     "output_type": "error",
     "traceback": [
      "\u001b[31m---------------------------------------------------------------------------\u001b[39m",
      "\u001b[31mNameError\u001b[39m                                 Traceback (most recent call last)",
      "\u001b[36mCell\u001b[39m\u001b[36m \u001b[39m\u001b[32mIn[6]\u001b[39m\u001b[32m, line 7\u001b[39m\n\u001b[32m      2\u001b[39m \u001b[38;5;66;03m# lst.count(\"red\")\u001b[39;00m\n\u001b[32m      3\u001b[39m \u001b[38;5;66;03m# # lst.index(\"red\")\u001b[39;00m\n\u001b[32m      4\u001b[39m \u001b[38;5;66;03m# lst2=lst.copy()\u001b[39;00m\n\u001b[32m      5\u001b[39m \u001b[38;5;66;03m# lst.clear()    #clear vs del \u001b[39;00m\n\u001b[32m      6\u001b[39m \u001b[38;5;28;01mdel\u001b[39;00m lst         \u001b[38;5;66;03m##\u001b[39;00m\n\u001b[32m----> \u001b[39m\u001b[32m7\u001b[39m \u001b[38;5;28mprint\u001b[39m(\u001b[43mlst\u001b[49m)\n",
      "\u001b[31mNameError\u001b[39m: name 'lst' is not defined"
     ]
    }
   ],
   "source": [
    "lst = [\"red\",\"black\",\"blue\",\"white\",\"red\"]\n",
    "# lst.count(\"red\")\n",
    "# # lst.index(\"red\")\n",
    "# lst2=lst.copy()\n",
    "# lst.clear()    #clear vs del \n",
    "del lst       ##\n",
    "# print(lst)"
   ]
  },
  {
   "cell_type": "code",
   "execution_count": null,
   "id": "52d9e21e",
   "metadata": {},
   "outputs": [
    {
     "name": "stdout",
     "output_type": "stream",
     "text": [
      "['black', 'blue', 'white']\n"
     ]
    }
   ],
   "source": [
    "lst = [\"red\",\"black\",\"blue\",\"white\"]\n",
    "# lst.sort(reverse=True)                     #ascending order\n",
    "# lst.reverse()\n",
    "# lst.append(\"red\")\n",
    "# lst.extend([\"red\",\"black\"])\n",
    "# lst.insert(2,\"red\")\n",
    "# lst.remove(\"red\")\n",
    "# lst.pop(0)\n",
    "\n",
    "print(lst)"
   ]
  },
  {
   "cell_type": "code",
   "execution_count": null,
   "id": "00c4c051",
   "metadata": {},
   "outputs": [],
   "source": []
  }
 ],
 "metadata": {
  "kernelspec": {
   "display_name": "Python 3",
   "language": "python",
   "name": "python3"
  },
  "language_info": {
   "codemirror_mode": {
    "name": "ipython",
    "version": 3
   },
   "file_extension": ".py",
   "mimetype": "text/x-python",
   "name": "python",
   "nbconvert_exporter": "python",
   "pygments_lexer": "ipython3",
   "version": "3.11.9"
  }
 },
 "nbformat": 4,
 "nbformat_minor": 5
}
