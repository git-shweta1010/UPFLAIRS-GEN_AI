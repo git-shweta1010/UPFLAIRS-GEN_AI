{
 "cells": [
  {
   "cell_type": "code",
   "execution_count": null,
   "id": "b46bfcbe",
   "metadata": {},
   "outputs": [],
   "source": [
    "## for , while \n",
    "##statement -- break and continue"
   ]
  },
  {
   "cell_type": "code",
   "execution_count": null,
   "id": "2dfdde82",
   "metadata": {},
   "outputs": [],
   "source": [
    "##for loop -- iterating over a sequence\n",
    "##seq - list , tuple , string , "
   ]
  },
  {
   "cell_type": "code",
   "execution_count": null,
   "id": "2914040f",
   "metadata": {},
   "outputs": [
    {
     "name": "stdout",
     "output_type": "stream",
     "text": [
      "p y t h o n "
     ]
    }
   ],
   "source": [
    "s = \"python\"\n",
    "for i in s:                       ## temporary variable -- i\n",
    "    print(i,end=\" \")"
   ]
  },
  {
   "cell_type": "code",
   "execution_count": 3,
   "id": "59f4ec42",
   "metadata": {},
   "outputs": [
    {
     "name": "stdout",
     "output_type": "stream",
     "text": [
      "red\n",
      "RED\n",
      "black\n",
      "BLACK\n",
      "blue\n",
      "BLUE\n"
     ]
    }
   ],
   "source": [
    "lst = [\"red\",\"black\",\"blue\"]\n",
    "for i in lst:\n",
    "    print(i)\n",
    "    print(i.upper())"
   ]
  },
  {
   "cell_type": "code",
   "execution_count": 10,
   "id": "80187105",
   "metadata": {},
   "outputs": [
    {
     "name": "stdout",
     "output_type": "stream",
     "text": [
      "name ------ google\n",
      "founder ------ sundar pichai\n"
     ]
    }
   ],
   "source": [
    "dt = {\n",
    "    \"name\" : \"google\",\n",
    "    \"founder\" : \"sundar pichai\"\n",
    "}\n",
    "for i,j in dt.items():\n",
    "    print(i,\"------\",j)"
   ]
  },
  {
   "cell_type": "code",
   "execution_count": 6,
   "id": "bee5bbb3",
   "metadata": {},
   "outputs": [
    {
     "data": {
      "text/plain": [
       "dict_items([('name', 'google'), ('founder', 'sundar pichai')])"
      ]
     },
     "execution_count": 6,
     "metadata": {},
     "output_type": "execute_result"
    }
   ],
   "source": [
    "dt.items()"
   ]
  },
  {
   "cell_type": "code",
   "execution_count": 11,
   "id": "48b3d800",
   "metadata": {},
   "outputs": [],
   "source": [
    "##square function -- list ---output in list\n",
    "def fun(ls):\n",
    "    ls1 = []\n",
    "    for i in ls:\n",
    "        ls1.append(i*i)\n",
    "    print(ls1)"
   ]
  },
  {
   "cell_type": "code",
   "execution_count": 12,
   "id": "772351ec",
   "metadata": {},
   "outputs": [
    {
     "name": "stdout",
     "output_type": "stream",
     "text": [
      "[4, 9, 16]\n"
     ]
    }
   ],
   "source": [
    "\n",
    "ls = [2,3,4]\n",
    "fun(ls)"
   ]
  },
  {
   "cell_type": "code",
   "execution_count": 13,
   "id": "74dfefde",
   "metadata": {},
   "outputs": [
    {
     "name": "stdout",
     "output_type": "stream",
     "text": [
      "1\n",
      "2\n",
      "3\n",
      "4\n"
     ]
    }
   ],
   "source": [
    "##break statement \n",
    "\n",
    "for i in range(1,11):\n",
    "    if i == 5:\n",
    "        break\n",
    "    print(i)"
   ]
  },
  {
   "cell_type": "code",
   "execution_count": 2,
   "id": "e64f6b67",
   "metadata": {},
   "outputs": [],
   "source": [
    "for i in range(1,11):\n",
    "     pass## do nothing"
   ]
  },
  {
   "cell_type": "code",
   "execution_count": 3,
   "id": "053f0ee7",
   "metadata": {},
   "outputs": [
    {
     "name": "stdout",
     "output_type": "stream",
     "text": [
      "1\n",
      "2\n",
      "3\n",
      "4\n",
      "5\n",
      "6\n",
      "7\n",
      "8\n",
      "9\n",
      "10\n"
     ]
    }
   ],
   "source": [
    "##while loop --\n",
    "i = 1\n",
    "while i <= 10:\n",
    "    print(i)\n",
    "    i += 1"
   ]
  },
  {
   "cell_type": "code",
   "execution_count": 4,
   "id": "fc44a7cb",
   "metadata": {},
   "outputs": [
    {
     "name": "stdout",
     "output_type": "stream",
     "text": [
      "10\n",
      "9\n",
      "8\n",
      "7\n",
      "6\n",
      "5\n",
      "4\n",
      "3\n",
      "2\n",
      "1\n"
     ]
    }
   ],
   "source": [
    "##reverse\n",
    "i = 10\n",
    "while i >= 1:\n",
    "    print(i)\n",
    "    i -= 1"
   ]
  },
  {
   "cell_type": "code",
   "execution_count": 5,
   "id": "835352b6",
   "metadata": {},
   "outputs": [
    {
     "name": "stdout",
     "output_type": "stream",
     "text": [
      "1\n",
      "2\n",
      "3\n",
      "4\n",
      "6\n",
      "7\n",
      "8\n",
      "9\n",
      "10\n"
     ]
    }
   ],
   "source": [
    "##continue in while\n",
    "\n",
    "i = 1\n",
    "while i <= 10:\n",
    "    if i == 5:\n",
    "        i += 1\n",
    "        continue\n",
    "    print(i)\n",
    "    i += 1\n",
    "\n"
   ]
  },
  {
   "cell_type": "code",
   "execution_count": 6,
   "id": "e6503a4f",
   "metadata": {},
   "outputs": [
    {
     "name": "stdout",
     "output_type": "stream",
     "text": [
      "6\n"
     ]
    }
   ],
   "source": [
    "#  Sum of numbers from 1 to n\n",
    "n = int(input(\"helllo\"))\n",
    "i = 1 \n",
    "total = 0\n",
    "while i <= n:\n",
    "    total += i\n",
    "    i += 1\n",
    "print(total)\n"
   ]
  },
  {
   "cell_type": "code",
   "execution_count": null,
   "id": "856554d0",
   "metadata": {},
   "outputs": [],
   "source": [
    "# Factorial of a number\n",
    "n = int(input(\"helllo\"))\n",
    "fact = 1 \n",
    "while n > 1:\n",
    "    fact *= n\n",
    "    n -= 1\n",
    "print(fact)"
   ]
  }
 ],
 "metadata": {
  "kernelspec": {
   "display_name": "Python 3",
   "language": "python",
   "name": "python3"
  },
  "language_info": {
   "codemirror_mode": {
    "name": "ipython",
    "version": 3
   },
   "file_extension": ".py",
   "mimetype": "text/x-python",
   "name": "python",
   "nbconvert_exporter": "python",
   "pygments_lexer": "ipython3",
   "version": "3.11.9"
  }
 },
 "nbformat": 4,
 "nbformat_minor": 5
}
