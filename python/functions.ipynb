{
 "cells": [
  {
   "cell_type": "code",
   "execution_count": null,
   "id": "9b4efd09",
   "metadata": {},
   "outputs": [],
   "source": [
    "##block of code that performs a specific task -- function\n",
    "#1 -- built-in functions --- predefined\n",
    "#2 -- user-defined functions --- custom functions\n",
    "#3 -- anonymous functions --- lambda functions\n",
    "#4 -- map , reduce , filter , enumerate"
   ]
  },
  {
   "cell_type": "code",
   "execution_count": 2,
   "id": "aebdc377",
   "metadata": {},
   "outputs": [
    {
     "name": "stdout",
     "output_type": "stream",
     "text": [
      "hello from fucntion \n"
     ]
    }
   ],
   "source": [
    "def hello():\n",
    "    #block of code \n",
    "    print(\"hello from fucntion \")\n",
    "\n",
    "hello()"
   ]
  },
  {
   "cell_type": "code",
   "execution_count": 3,
   "id": "5e33ab57",
   "metadata": {},
   "outputs": [
    {
     "name": "stdout",
     "output_type": "stream",
     "text": [
      "70\n"
     ]
    }
   ],
   "source": [
    "def addd():\n",
    "    a = 20 \n",
    "    b = 50 \n",
    "    print(a+b)\n",
    "    \n",
    "addd()"
   ]
  },
  {
   "cell_type": "code",
   "execution_count": 8,
   "id": "77f339de",
   "metadata": {},
   "outputs": [
    {
     "ename": "TypeError",
     "evalue": "add1() missing 1 required positional argument: 'b'",
     "output_type": "error",
     "traceback": [
      "\u001b[31m---------------------------------------------------------------------------\u001b[39m",
      "\u001b[31mTypeError\u001b[39m                                 Traceback (most recent call last)",
      "\u001b[36mCell\u001b[39m\u001b[36m \u001b[39m\u001b[32mIn[8]\u001b[39m\u001b[32m, line 6\u001b[39m\n\u001b[32m      2\u001b[39m \u001b[38;5;28;01mdef\u001b[39;00m\u001b[38;5;250m \u001b[39m\u001b[34madd1\u001b[39m(a,b):\n\u001b[32m      3\u001b[39m     \u001b[38;5;28mprint\u001b[39m(a+b)\n\u001b[32m----> \u001b[39m\u001b[32m6\u001b[39m \u001b[43madd1\u001b[49m\u001b[43m(\u001b[49m\u001b[32;43m2000000000000000000000000000000\u001b[39;49m\u001b[43m)\u001b[49m\n",
      "\u001b[31mTypeError\u001b[39m: add1() missing 1 required positional argument: 'b'"
     ]
    }
   ],
   "source": [
    "##parameters and arguments \n",
    "def add1(a,b):\n",
    "    print(a+b)\n",
    "\n",
    "\n",
    "add1(2000000000000000000000000000000)"
   ]
  },
  {
   "cell_type": "code",
   "execution_count": null,
   "id": "766c78f7",
   "metadata": {},
   "outputs": [],
   "source": [
    "##arbitary arguments -- *args \n",
    "##keyword arguments -- \n",
    "##arbitrary keyword arguments -- **kwargs"
   ]
  },
  {
   "cell_type": "code",
   "execution_count": 10,
   "id": "281091c9",
   "metadata": {},
   "outputs": [
    {
     "name": "stdout",
     "output_type": "stream",
     "text": [
      "The youngest child is Linus\n"
     ]
    }
   ],
   "source": [
    "##arbitary arguments -- *args \n",
    "def family(*kids):\n",
    "    print(\"The youngest child is \" + kids[2])\n",
    "\n",
    "family(\"Emil\", \"Tobias\", \"Linus\")"
   ]
  },
  {
   "cell_type": "code",
   "execution_count": null,
   "id": "e30be049",
   "metadata": {},
   "outputs": [],
   "source": [
    "##keyword arguments -- \n",
    "def family(child1, child2, child3):\n",
    "    print(\"The youngest child is \" + child3)\n",
    "\n",
    "family(child1 = \"Emil\", child2 = \"Tobias\", child3 = \"Linus\")"
   ]
  },
  {
   "cell_type": "code",
   "execution_count": null,
   "id": "0915f6fe",
   "metadata": {},
   "outputs": [],
   "source": [
    "##arbitrary keyword arguments -- **kwargs\n",
    "def family(**kid):\n",
    "    print(\"The youngest child is \" + kid[\"child3\"])\n",
    "\n",
    "family(child1 = \"Emil\", child2 = \"Tobias\", child3 = \"Linus\")"
   ]
  },
  {
   "cell_type": "code",
   "execution_count": 15,
   "id": "a2da3d92",
   "metadata": {},
   "outputs": [
    {
     "name": "stdout",
     "output_type": "stream",
     "text": [
      "My favorite sport is cricket\n"
     ]
    }
   ],
   "source": [
    "##default parameter value\n",
    "\n",
    "def sports(sport = \"cricket\"):\n",
    "    print(\"My favorite sport is \" + sport)\n",
    "\n",
    "sports()"
   ]
  },
  {
   "cell_type": "code",
   "execution_count": 17,
   "id": "b0a5971b",
   "metadata": {},
   "outputs": [
    {
     "data": {
      "text/plain": [
       "3.0"
      ]
     },
     "execution_count": 17,
     "metadata": {},
     "output_type": "execute_result"
    }
   ],
   "source": [
    "###avg function \n",
    "def avg(input):\n",
    "    return sum(input)/len(input)\n",
    "\n",
    "avg([1,2,3,4,5])"
   ]
  },
  {
   "cell_type": "code",
   "execution_count": null,
   "id": "1b073242",
   "metadata": {},
   "outputs": [],
   "source": [
    "#  Function to find the largest among three numbers"
   ]
  },
  {
   "cell_type": "code",
   "execution_count": 1,
   "id": "75b19e16",
   "metadata": {},
   "outputs": [
    {
     "name": "stdout",
     "output_type": "stream",
     "text": [
      "[4, 9, 16]\n"
     ]
    }
   ],
   "source": [
    "##lambda function -- small anonymous function\n",
    "def fun(ls):\n",
    "    ls1 = []\n",
    "    for i in ls:\n",
    "        ls1.append(i*i)\n",
    "    print(ls1)\n",
    "\n",
    "ls = [2,3,4]\n",
    "fun(ls)"
   ]
  },
  {
   "cell_type": "code",
   "execution_count": 3,
   "id": "68dadfec",
   "metadata": {},
   "outputs": [
    {
     "name": "stdout",
     "output_type": "stream",
     "text": [
      "11\n"
     ]
    }
   ],
   "source": [
    "x = lambda a,b , c  : a + b + c\n",
    "print(x(5,2,4))"
   ]
  },
  {
   "cell_type": "code",
   "execution_count": 4,
   "id": "7530579a",
   "metadata": {},
   "outputs": [],
   "source": [
    "##map --> map(function , iterable)\n",
    "def sq(n):\n",
    "    return n * n "
   ]
  },
  {
   "cell_type": "code",
   "execution_count": 7,
   "id": "35c02692",
   "metadata": {},
   "outputs": [
    {
     "name": "stdout",
     "output_type": "stream",
     "text": [
      "[4, 9, 16, 25]\n"
     ]
    }
   ],
   "source": [
    "l = [2,3,4,5]\n",
    "Result = list(map(lambda n : n*n,l))\n",
    "print(Result)\n"
   ]
  },
  {
   "cell_type": "code",
   "execution_count": 9,
   "id": "f651e450",
   "metadata": {},
   "outputs": [
    {
     "name": "stdout",
     "output_type": "stream",
     "text": [
      "[3, 4, 5]\n"
     ]
    }
   ],
   "source": [
    "##filter --- filter(function , iterable)\n",
    "l = [2,3,4,5]\n",
    "# Result = list(filter(lambda a : a%2 == 0,l))\n",
    "Result = list(filter(lambda a : a>2,l))\n",
    "print(Result)"
   ]
  },
  {
   "cell_type": "code",
   "execution_count": null,
   "id": "660372c7",
   "metadata": {},
   "outputs": [
    {
     "name": "stdout",
     "output_type": "stream",
     "text": [
      "14\n"
     ]
    }
   ],
   "source": [
    "# reduce -- reduce(function , iterable) --- iterable ussko ek single item \n",
    "#left to right \n",
    "from functools import reduce \n",
    "\n",
    "l = [2,3,4,5]\n",
    "Result = reduce(lambda a,b : a+b,l)\n",
    "print(Result)\n",
    "\n",
    "##[5,4,5] ---[9,5] --[14]\n"
   ]
  },
  {
   "cell_type": "code",
   "execution_count": 15,
   "id": "b1f0ff7c",
   "metadata": {},
   "outputs": [
    {
     "name": "stdout",
     "output_type": "stream",
     "text": [
      "[(5, 2), (6, 3), (7, 4), (8, 5)]\n"
     ]
    }
   ],
   "source": [
    "##enumerate -- enumerate(iterable , start = 0)\n",
    "\n",
    "l = [2,3,4,5]\n",
    "Result = list(enumerate(l,start = 5))\n",
    "print(Result)"
   ]
  },
  {
   "cell_type": "code",
   "execution_count": null,
   "id": "87a10895",
   "metadata": {},
   "outputs": [],
   "source": []
  }
 ],
 "metadata": {
  "kernelspec": {
   "display_name": "Python 3",
   "language": "python",
   "name": "python3"
  },
  "language_info": {
   "codemirror_mode": {
    "name": "ipython",
    "version": 3
   },
   "file_extension": ".py",
   "mimetype": "text/x-python",
   "name": "python",
   "nbconvert_exporter": "python",
   "pygments_lexer": "ipython3",
   "version": "3.11.9"
  }
 },
 "nbformat": 4,
 "nbformat_minor": 5
}
