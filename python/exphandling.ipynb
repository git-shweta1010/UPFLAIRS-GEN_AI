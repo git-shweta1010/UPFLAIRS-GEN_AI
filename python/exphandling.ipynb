{
 "cells": [
  {
   "cell_type": "code",
   "execution_count": null,
   "id": "a325e318",
   "metadata": {},
   "outputs": [],
   "source": [
    "## exception handling -- error handling -- error handling in python\n",
    "##4 types of blocks -- try , except , else , finally\n",
    "\n",
    "##try  ---- code that might cause an error\n",
    "##except  ---- code to handle the error\n",
    "##else  ---- code to execute if no error\n",
    "##finally  ---- code to execute regardless of error"
   ]
  },
  {
   "cell_type": "code",
   "execution_count": null,
   "id": "e31a92e6",
   "metadata": {},
   "outputs": [
    {
     "name": "stdout",
     "output_type": "stream",
     "text": [
      "error ---- list index out of range\n",
      "finally\n"
     ]
    }
   ],
   "source": [
    "try:\n",
    "    ##zero division error\n",
    "    l = [1,2,3]\n",
    "    print(l[3])\n",
    "except IndexError as e:        ##as -- alias(nickname)\n",
    "    print(\"error\" ,\"----\", e)\n",
    "else:\n",
    "    print(\"no error\")\n",
    "finally:\n",
    "    print(\"finally\")"
   ]
  },
  {
   "cell_type": "code",
   "execution_count": null,
   "metadata": {},
   "outputs": [],
   "source": []
  },
  {
   "cell_type": "code",
   "execution_count": null,
   "id": "dc7b7b52",
   "metadata": {},
   "outputs": [],
   "source": []
  },
  {
   "cell_type": "code",
   "execution_count": null,
   "id": "fd27ab61",
   "metadata": {},
   "outputs": [],
   "source": []
  },
  {
   "cell_type": "code",
   "execution_count": null,
   "metadata": {},
   "outputs": [],
   "source": []
  },
  {
   "cell_type": "code",
   "execution_count": null,
   "id": "7bb007f7",
   "metadata": {},
   "outputs": [],
   "source": []
  },
  {
   "cell_type": "code",
   "execution_count": null,
   "id": "7ae58c2f",
   "metadata": {},
   "outputs": [],
   "source": []
  }
 ],
 "metadata": {
  "kernelspec": {
   "display_name": "Python 3",
   "language": "python",
   "name": "python3"
  },
  "language_info": {
   "codemirror_mode": {
    "name": "ipython",
    "version": 3
   },
   "file_extension": ".py",
   "mimetype": "text/x-python",
   "name": "python",
   "nbconvert_exporter": "python",
   "pygments_lexer": "ipython3",
   "version": "3.11.9"
  }
 },
 "nbformat": 4,
 "nbformat_minor": 5
}
