{
 "cells": [
  {
   "cell_type": "code",
   "execution_count": null,
   "id": "bc1da639",
   "metadata": {},
   "outputs": [],
   "source": [
    "##if else -- conditional statements -- decision making -- condition check \n",
    "## if , elif , else\n",
    "##logical operators -- and , or , not\n"
   ]
  },
  {
   "cell_type": "code",
   "execution_count": 4,
   "id": "fd22264e",
   "metadata": {},
   "outputs": [
    {
     "name": "stdout",
     "output_type": "stream",
     "text": [
      "a is equal to b\n"
     ]
    }
   ],
   "source": [
    "a = 10 \n",
    "b = 10 \n",
    "if a>b :\n",
    "    #indentation\n",
    "    print(\"b is greater than a\")\n",
    "elif a==b :\n",
    "    print(\"a is equal to b\")\n",
    "else :\n",
    "    print(\"a is greater than b\")\n"
   ]
  },
  {
   "cell_type": "code",
   "execution_count": 5,
   "id": "0e9b44c3",
   "metadata": {},
   "outputs": [
    {
     "name": "stdout",
     "output_type": "stream",
     "text": [
      "a is less than b\n",
      "b is less than c\n"
     ]
    }
   ],
   "source": [
    "##nested if \n",
    "a = 10\n",
    "b = 20\n",
    "c = 30\n",
    "\n",
    "if a>b :\n",
    "    print(\"a is greater than b\")\n",
    "    if a>c :\n",
    "        print(\"a is greater than c\")\n",
    "    else :\n",
    "        print(\"a is less than c\")\n",
    "else :\n",
    "    print(\"a is less than b\")\n",
    "    if b>c :\n",
    "        print(\"b is greater than c\")\n",
    "    else :\n",
    "        print(\"b is less than c\")"
   ]
  },
  {
   "cell_type": "code",
   "execution_count": 8,
   "id": "30b2571a",
   "metadata": {},
   "outputs": [
    {
     "name": "stdout",
     "output_type": "stream",
     "text": [
      "12\n",
      "<class 'int'>\n"
     ]
    }
   ],
   "source": [
    "#user input \n",
    "a = int(input(\"enter a number\"))  ##default input is string\n",
    "print(a)\n",
    "print(type(a))"
   ]
  },
  {
   "cell_type": "code",
   "execution_count": null,
   "id": "e53a1309",
   "metadata": {},
   "outputs": [],
   "source": [
    "# Check if a number is positive or negative\n",
    "# Check if a number is divisible by 5 and 11\n",
    "#  Check if a character is a vowel or consonant\n",
    " \n",
    "a = input(\"enter a alphabet\")\n",
    "\n",
    "if a == \"a\" or a == \"e\" or a == \"i\" or a == \"o\" or a == \"u\" :\n",
    "    print(\"vowel\")\n",
    "else :\n",
    "    print(\"consonant\")"
   ]
  },
  {
   "cell_type": "code",
   "execution_count": null,
   "id": "4bbe5dd8",
   "metadata": {},
   "outputs": [],
   "source": []
  },
  {
   "cell_type": "code",
   "execution_count": null,
   "id": "89ca59d6",
   "metadata": {},
   "outputs": [],
   "source": []
  }
 ],
 "metadata": {
  "kernelspec": {
   "display_name": "Python 3",
   "language": "python",
   "name": "python3"
  },
  "language_info": {
   "codemirror_mode": {
    "name": "ipython",
    "version": 3
   },
   "file_extension": ".py",
   "mimetype": "text/x-python",
   "name": "python",
   "nbconvert_exporter": "python",
   "pygments_lexer": "ipython3",
   "version": "3.11.9"
  }
 },
 "nbformat": 4,
 "nbformat_minor": 5
}
