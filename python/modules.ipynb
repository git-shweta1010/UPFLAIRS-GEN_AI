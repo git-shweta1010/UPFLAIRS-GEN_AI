{
 "cells": [
  {
   "cell_type": "code",
   "execution_count": null,
   "id": "17824eb2",
   "metadata": {},
   "outputs": [],
   "source": [
    "##modules vs packages vs lib\n",
    "#module -- a single .py file (python file) \n",
    "##packages -- is a dir which contains collection of modules\n",
    "#lib - is a collection of packages"
   ]
  },
  {
   "cell_type": "code",
   "execution_count": null,
   "id": "a7c75a36",
   "metadata": {},
   "outputs": [],
   "source": [
    "#modules -- types of modules\n",
    "#1. built-in modules --- os , datetime , re \n",
    "#2. third-party modules --- pandas , numpy\n",
    "#3. user-defined modules\n"
   ]
  },
  {
   "cell_type": "code",
   "execution_count": null,
   "id": "67e2b3b6",
   "metadata": {},
   "outputs": [],
   "source": [
    "## __init__.py"
   ]
  },
  {
   "cell_type": "code",
   "execution_count": null,
   "id": "ba674319",
   "metadata": {},
   "outputs": [],
   "source": [
    "# import basic \n"
   ]
  },
  {
   "cell_type": "code",
   "execution_count": 1,
   "id": "a498126b",
   "metadata": {},
   "outputs": [],
   "source": [
    "from basic import addd1"
   ]
  },
  {
   "cell_type": "code",
   "execution_count": 2,
   "id": "b3f3eca1",
   "metadata": {},
   "outputs": [
    {
     "name": "stdout",
     "output_type": "stream",
     "text": [
      "hello\n"
     ]
    }
   ],
   "source": [
    "addd1()"
   ]
  },
  {
   "cell_type": "code",
   "execution_count": 3,
   "id": "0347bda2",
   "metadata": {},
   "outputs": [],
   "source": [
    "from samplemodule import adddintestfile"
   ]
  },
  {
   "cell_type": "code",
   "execution_count": 5,
   "id": "2827c042",
   "metadata": {},
   "outputs": [
    {
     "name": "stdout",
     "output_type": "stream",
     "text": [
      "hello i am the function present in test file \n"
     ]
    }
   ],
   "source": [
    "adddintestfile()"
   ]
  },
  {
   "cell_type": "code",
   "execution_count": null,
   "id": "21ab3de8",
   "metadata": {},
   "outputs": [],
   "source": [
    "from functools import reduce"
   ]
  },
  {
   "cell_type": "code",
   "execution_count": null,
   "id": "926bf6b2",
   "metadata": {},
   "outputs": [],
   "source": [
    "# pip ##package manager"
   ]
  }
 ],
 "metadata": {
  "kernelspec": {
   "display_name": "Python 3",
   "language": "python",
   "name": "python3"
  },
  "language_info": {
   "codemirror_mode": {
    "name": "ipython",
    "version": 3
   },
   "file_extension": ".py",
   "mimetype": "text/x-python",
   "name": "python",
   "nbconvert_exporter": "python",
   "pygments_lexer": "ipython3",
   "version": "3.11.9"
  }
 },
 "nbformat": 4,
 "nbformat_minor": 5
}
