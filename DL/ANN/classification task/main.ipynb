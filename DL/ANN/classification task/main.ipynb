{
 "cells": [
  {
   "cell_type": "code",
   "execution_count": 1,
   "id": "8c34a8fe",
   "metadata": {},
   "outputs": [],
   "source": [
    "import pandas as pd \n",
    "## no module found -- install --pip install pandas--"
   ]
  },
  {
   "cell_type": "code",
   "execution_count": 2,
   "id": "0de84483",
   "metadata": {},
   "outputs": [
    {
     "data": {
      "text/html": [
       "<div>\n",
       "<style scoped>\n",
       "    .dataframe tbody tr th:only-of-type {\n",
       "        vertical-align: middle;\n",
       "    }\n",
       "\n",
       "    .dataframe tbody tr th {\n",
       "        vertical-align: top;\n",
       "    }\n",
       "\n",
       "    .dataframe thead th {\n",
       "        text-align: right;\n",
       "    }\n",
       "</style>\n",
       "<table border=\"1\" class=\"dataframe\">\n",
       "  <thead>\n",
       "    <tr style=\"text-align: right;\">\n",
       "      <th></th>\n",
       "      <th>Gender</th>\n",
       "      <th>Customer Type</th>\n",
       "      <th>Type of Travel</th>\n",
       "      <th>Class</th>\n",
       "      <th>satisfaction</th>\n",
       "      <th>Age</th>\n",
       "      <th>Flight Distance</th>\n",
       "      <th>Inflight entertainment</th>\n",
       "      <th>Baggage handling</th>\n",
       "      <th>Cleanliness</th>\n",
       "      <th>Departure Delay in Minutes</th>\n",
       "      <th>Arrival Delay in Minutes</th>\n",
       "    </tr>\n",
       "  </thead>\n",
       "  <tbody>\n",
       "    <tr>\n",
       "      <th>0</th>\n",
       "      <td>Male</td>\n",
       "      <td>Loyal Customer</td>\n",
       "      <td>Personal Travel</td>\n",
       "      <td>Eco Plus</td>\n",
       "      <td>neutral or dissatisfied</td>\n",
       "      <td>13</td>\n",
       "      <td>460</td>\n",
       "      <td>5</td>\n",
       "      <td>4</td>\n",
       "      <td>5</td>\n",
       "      <td>25</td>\n",
       "      <td>18.0</td>\n",
       "    </tr>\n",
       "    <tr>\n",
       "      <th>1</th>\n",
       "      <td>Male</td>\n",
       "      <td>disloyal Customer</td>\n",
       "      <td>Business travel</td>\n",
       "      <td>Business</td>\n",
       "      <td>neutral or dissatisfied</td>\n",
       "      <td>25</td>\n",
       "      <td>235</td>\n",
       "      <td>1</td>\n",
       "      <td>3</td>\n",
       "      <td>1</td>\n",
       "      <td>1</td>\n",
       "      <td>6.0</td>\n",
       "    </tr>\n",
       "    <tr>\n",
       "      <th>2</th>\n",
       "      <td>Female</td>\n",
       "      <td>Loyal Customer</td>\n",
       "      <td>Business travel</td>\n",
       "      <td>Business</td>\n",
       "      <td>satisfied</td>\n",
       "      <td>26</td>\n",
       "      <td>1142</td>\n",
       "      <td>5</td>\n",
       "      <td>4</td>\n",
       "      <td>5</td>\n",
       "      <td>0</td>\n",
       "      <td>0.0</td>\n",
       "    </tr>\n",
       "    <tr>\n",
       "      <th>3</th>\n",
       "      <td>Female</td>\n",
       "      <td>Loyal Customer</td>\n",
       "      <td>Business travel</td>\n",
       "      <td>Business</td>\n",
       "      <td>neutral or dissatisfied</td>\n",
       "      <td>25</td>\n",
       "      <td>562</td>\n",
       "      <td>2</td>\n",
       "      <td>3</td>\n",
       "      <td>2</td>\n",
       "      <td>11</td>\n",
       "      <td>9.0</td>\n",
       "    </tr>\n",
       "    <tr>\n",
       "      <th>4</th>\n",
       "      <td>Male</td>\n",
       "      <td>Loyal Customer</td>\n",
       "      <td>Business travel</td>\n",
       "      <td>Business</td>\n",
       "      <td>satisfied</td>\n",
       "      <td>61</td>\n",
       "      <td>214</td>\n",
       "      <td>3</td>\n",
       "      <td>4</td>\n",
       "      <td>3</td>\n",
       "      <td>0</td>\n",
       "      <td>0.0</td>\n",
       "    </tr>\n",
       "  </tbody>\n",
       "</table>\n",
       "</div>"
      ],
      "text/plain": [
       "   Gender      Customer Type   Type of Travel     Class  \\\n",
       "0    Male     Loyal Customer  Personal Travel  Eco Plus   \n",
       "1    Male  disloyal Customer  Business travel  Business   \n",
       "2  Female     Loyal Customer  Business travel  Business   \n",
       "3  Female     Loyal Customer  Business travel  Business   \n",
       "4    Male     Loyal Customer  Business travel  Business   \n",
       "\n",
       "              satisfaction  Age  Flight Distance  Inflight entertainment  \\\n",
       "0  neutral or dissatisfied   13              460                       5   \n",
       "1  neutral or dissatisfied   25              235                       1   \n",
       "2                satisfied   26             1142                       5   \n",
       "3  neutral or dissatisfied   25              562                       2   \n",
       "4                satisfied   61              214                       3   \n",
       "\n",
       "   Baggage handling  Cleanliness  Departure Delay in Minutes  \\\n",
       "0                 4            5                          25   \n",
       "1                 3            1                           1   \n",
       "2                 4            5                           0   \n",
       "3                 3            2                          11   \n",
       "4                 4            3                           0   \n",
       "\n",
       "   Arrival Delay in Minutes  \n",
       "0                      18.0  \n",
       "1                       6.0  \n",
       "2                       0.0  \n",
       "3                       9.0  \n",
       "4                       0.0  "
      ]
     },
     "execution_count": 2,
     "metadata": {},
     "output_type": "execute_result"
    }
   ],
   "source": [
    "#pandas - data manipulation and analysis\n",
    "##data load \n",
    "df = pd.read_csv(\"cust_satisfaction.csv\")\n",
    "\n",
    "df.head()\n"
   ]
  },
  {
   "cell_type": "code",
   "execution_count": 3,
   "id": "7187dc81",
   "metadata": {},
   "outputs": [],
   "source": [
    "## x and y \n",
    "#dependent and independent variables"
   ]
  },
  {
   "cell_type": "code",
   "execution_count": 4,
   "id": "e5ba0aae",
   "metadata": {},
   "outputs": [
    {
     "name": "stdout",
     "output_type": "stream",
     "text": [
      "<class 'pandas.core.frame.DataFrame'>\n",
      "RangeIndex: 103904 entries, 0 to 103903\n",
      "Data columns (total 12 columns):\n",
      " #   Column                      Non-Null Count   Dtype  \n",
      "---  ------                      --------------   -----  \n",
      " 0   Gender                      103904 non-null  object \n",
      " 1   Customer Type               103904 non-null  object \n",
      " 2   Type of Travel              103904 non-null  object \n",
      " 3   Class                       103904 non-null  object \n",
      " 4   satisfaction                103904 non-null  object \n",
      " 5   Age                         103904 non-null  int64  \n",
      " 6   Flight Distance             103904 non-null  int64  \n",
      " 7   Inflight entertainment      103904 non-null  int64  \n",
      " 8   Baggage handling            103904 non-null  int64  \n",
      " 9   Cleanliness                 103904 non-null  int64  \n",
      " 10  Departure Delay in Minutes  103904 non-null  int64  \n",
      " 11  Arrival Delay in Minutes    103594 non-null  float64\n",
      "dtypes: float64(1), int64(6), object(5)\n",
      "memory usage: 9.5+ MB\n"
     ]
    }
   ],
   "source": [
    "df.info()  ##information about the dataset"
   ]
  },
  {
   "cell_type": "code",
   "execution_count": 5,
   "id": "838bf557",
   "metadata": {},
   "outputs": [
    {
     "data": {
      "text/plain": [
       "Gender                        0\n",
       "Customer Type                 0\n",
       "Type of Travel                0\n",
       "Class                         0\n",
       "satisfaction                  0\n",
       "Age                           0\n",
       "Flight Distance               0\n",
       "Inflight entertainment        0\n",
       "Baggage handling              0\n",
       "Cleanliness                   0\n",
       "Departure Delay in Minutes    0\n",
       "Arrival Delay in Minutes      0\n",
       "dtype: int64"
      ]
     },
     "execution_count": 5,
     "metadata": {},
     "output_type": "execute_result"
    }
   ],
   "source": [
    "##preprocessing --- data clean -- null values and duplicates values \n",
    "##null values check and remove \n",
    "df.isnull().sum()\n",
    "##to remove null values \n",
    "df.dropna(inplace=True)\n",
    "df.isnull().sum()"
   ]
  },
  {
   "cell_type": "code",
   "execution_count": 6,
   "id": "dcf8c86a",
   "metadata": {},
   "outputs": [
    {
     "data": {
      "text/plain": [
       "0"
      ]
     },
     "execution_count": 6,
     "metadata": {},
     "output_type": "execute_result"
    }
   ],
   "source": [
    "##duplicates check and remove \n",
    "df.duplicated().sum()\n",
    "#remove\n",
    "df.drop_duplicates(inplace=True)\n",
    "df.duplicated().sum()"
   ]
  },
  {
   "cell_type": "code",
   "execution_count": 7,
   "id": "0f1204ad",
   "metadata": {},
   "outputs": [],
   "source": [
    "##changing object data type to int data type \n",
    "df[\"Gender\"] = df[\"Gender\"].map({\"Male\":1,\"Female\":0})\n",
    "df[\"Customer Type\"] = df[\"Customer Type\"].map({\"Loyal Customer\":1,\"disloyal Customer\":0})\n",
    "df[\"Type of Travel\"] = df[\"Type of Travel\"].map({\"Personal Travel\":0,\"Business travel\":1})\n",
    "df[\"Class\"] = df[\"Class\"].map({\"Eco Plus\":3,\"Business\":1,\"Eco\":2})\n",
    "df[\"satisfaction\"] = df[\"satisfaction\"].map({\"neutral or dissatisfied\":0,\"satisfied\":1})"
   ]
  },
  {
   "cell_type": "code",
   "execution_count": 8,
   "id": "7351a20c",
   "metadata": {},
   "outputs": [
    {
     "data": {
      "text/html": [
       "<div>\n",
       "<style scoped>\n",
       "    .dataframe tbody tr th:only-of-type {\n",
       "        vertical-align: middle;\n",
       "    }\n",
       "\n",
       "    .dataframe tbody tr th {\n",
       "        vertical-align: top;\n",
       "    }\n",
       "\n",
       "    .dataframe thead th {\n",
       "        text-align: right;\n",
       "    }\n",
       "</style>\n",
       "<table border=\"1\" class=\"dataframe\">\n",
       "  <thead>\n",
       "    <tr style=\"text-align: right;\">\n",
       "      <th></th>\n",
       "      <th>Gender</th>\n",
       "      <th>Customer Type</th>\n",
       "      <th>Type of Travel</th>\n",
       "      <th>Class</th>\n",
       "      <th>satisfaction</th>\n",
       "      <th>Age</th>\n",
       "      <th>Flight Distance</th>\n",
       "      <th>Inflight entertainment</th>\n",
       "      <th>Baggage handling</th>\n",
       "      <th>Cleanliness</th>\n",
       "      <th>Departure Delay in Minutes</th>\n",
       "      <th>Arrival Delay in Minutes</th>\n",
       "    </tr>\n",
       "  </thead>\n",
       "  <tbody>\n",
       "    <tr>\n",
       "      <th>0</th>\n",
       "      <td>1</td>\n",
       "      <td>1</td>\n",
       "      <td>0</td>\n",
       "      <td>3</td>\n",
       "      <td>0</td>\n",
       "      <td>13</td>\n",
       "      <td>460</td>\n",
       "      <td>5</td>\n",
       "      <td>4</td>\n",
       "      <td>5</td>\n",
       "      <td>25</td>\n",
       "      <td>18.0</td>\n",
       "    </tr>\n",
       "    <tr>\n",
       "      <th>1</th>\n",
       "      <td>1</td>\n",
       "      <td>0</td>\n",
       "      <td>1</td>\n",
       "      <td>1</td>\n",
       "      <td>0</td>\n",
       "      <td>25</td>\n",
       "      <td>235</td>\n",
       "      <td>1</td>\n",
       "      <td>3</td>\n",
       "      <td>1</td>\n",
       "      <td>1</td>\n",
       "      <td>6.0</td>\n",
       "    </tr>\n",
       "    <tr>\n",
       "      <th>2</th>\n",
       "      <td>0</td>\n",
       "      <td>1</td>\n",
       "      <td>1</td>\n",
       "      <td>1</td>\n",
       "      <td>1</td>\n",
       "      <td>26</td>\n",
       "      <td>1142</td>\n",
       "      <td>5</td>\n",
       "      <td>4</td>\n",
       "      <td>5</td>\n",
       "      <td>0</td>\n",
       "      <td>0.0</td>\n",
       "    </tr>\n",
       "    <tr>\n",
       "      <th>3</th>\n",
       "      <td>0</td>\n",
       "      <td>1</td>\n",
       "      <td>1</td>\n",
       "      <td>1</td>\n",
       "      <td>0</td>\n",
       "      <td>25</td>\n",
       "      <td>562</td>\n",
       "      <td>2</td>\n",
       "      <td>3</td>\n",
       "      <td>2</td>\n",
       "      <td>11</td>\n",
       "      <td>9.0</td>\n",
       "    </tr>\n",
       "    <tr>\n",
       "      <th>4</th>\n",
       "      <td>1</td>\n",
       "      <td>1</td>\n",
       "      <td>1</td>\n",
       "      <td>1</td>\n",
       "      <td>1</td>\n",
       "      <td>61</td>\n",
       "      <td>214</td>\n",
       "      <td>3</td>\n",
       "      <td>4</td>\n",
       "      <td>3</td>\n",
       "      <td>0</td>\n",
       "      <td>0.0</td>\n",
       "    </tr>\n",
       "    <tr>\n",
       "      <th>...</th>\n",
       "      <td>...</td>\n",
       "      <td>...</td>\n",
       "      <td>...</td>\n",
       "      <td>...</td>\n",
       "      <td>...</td>\n",
       "      <td>...</td>\n",
       "      <td>...</td>\n",
       "      <td>...</td>\n",
       "      <td>...</td>\n",
       "      <td>...</td>\n",
       "      <td>...</td>\n",
       "      <td>...</td>\n",
       "    </tr>\n",
       "    <tr>\n",
       "      <th>103899</th>\n",
       "      <td>0</td>\n",
       "      <td>0</td>\n",
       "      <td>1</td>\n",
       "      <td>2</td>\n",
       "      <td>0</td>\n",
       "      <td>23</td>\n",
       "      <td>192</td>\n",
       "      <td>2</td>\n",
       "      <td>4</td>\n",
       "      <td>2</td>\n",
       "      <td>3</td>\n",
       "      <td>0.0</td>\n",
       "    </tr>\n",
       "    <tr>\n",
       "      <th>103900</th>\n",
       "      <td>1</td>\n",
       "      <td>1</td>\n",
       "      <td>1</td>\n",
       "      <td>1</td>\n",
       "      <td>1</td>\n",
       "      <td>49</td>\n",
       "      <td>2347</td>\n",
       "      <td>5</td>\n",
       "      <td>5</td>\n",
       "      <td>4</td>\n",
       "      <td>0</td>\n",
       "      <td>0.0</td>\n",
       "    </tr>\n",
       "    <tr>\n",
       "      <th>103901</th>\n",
       "      <td>1</td>\n",
       "      <td>0</td>\n",
       "      <td>1</td>\n",
       "      <td>1</td>\n",
       "      <td>0</td>\n",
       "      <td>30</td>\n",
       "      <td>1995</td>\n",
       "      <td>4</td>\n",
       "      <td>4</td>\n",
       "      <td>4</td>\n",
       "      <td>7</td>\n",
       "      <td>14.0</td>\n",
       "    </tr>\n",
       "    <tr>\n",
       "      <th>103902</th>\n",
       "      <td>0</td>\n",
       "      <td>0</td>\n",
       "      <td>1</td>\n",
       "      <td>2</td>\n",
       "      <td>0</td>\n",
       "      <td>22</td>\n",
       "      <td>1000</td>\n",
       "      <td>1</td>\n",
       "      <td>1</td>\n",
       "      <td>1</td>\n",
       "      <td>0</td>\n",
       "      <td>0.0</td>\n",
       "    </tr>\n",
       "    <tr>\n",
       "      <th>103903</th>\n",
       "      <td>1</td>\n",
       "      <td>1</td>\n",
       "      <td>1</td>\n",
       "      <td>1</td>\n",
       "      <td>0</td>\n",
       "      <td>27</td>\n",
       "      <td>1723</td>\n",
       "      <td>1</td>\n",
       "      <td>4</td>\n",
       "      <td>1</td>\n",
       "      <td>0</td>\n",
       "      <td>0.0</td>\n",
       "    </tr>\n",
       "  </tbody>\n",
       "</table>\n",
       "<p>103422 rows × 12 columns</p>\n",
       "</div>"
      ],
      "text/plain": [
       "        Gender  Customer Type  Type of Travel  Class  satisfaction  Age  \\\n",
       "0            1              1               0      3             0   13   \n",
       "1            1              0               1      1             0   25   \n",
       "2            0              1               1      1             1   26   \n",
       "3            0              1               1      1             0   25   \n",
       "4            1              1               1      1             1   61   \n",
       "...        ...            ...             ...    ...           ...  ...   \n",
       "103899       0              0               1      2             0   23   \n",
       "103900       1              1               1      1             1   49   \n",
       "103901       1              0               1      1             0   30   \n",
       "103902       0              0               1      2             0   22   \n",
       "103903       1              1               1      1             0   27   \n",
       "\n",
       "        Flight Distance  Inflight entertainment  Baggage handling  \\\n",
       "0                   460                       5                 4   \n",
       "1                   235                       1                 3   \n",
       "2                  1142                       5                 4   \n",
       "3                   562                       2                 3   \n",
       "4                   214                       3                 4   \n",
       "...                 ...                     ...               ...   \n",
       "103899              192                       2                 4   \n",
       "103900             2347                       5                 5   \n",
       "103901             1995                       4                 4   \n",
       "103902             1000                       1                 1   \n",
       "103903             1723                       1                 4   \n",
       "\n",
       "        Cleanliness  Departure Delay in Minutes  Arrival Delay in Minutes  \n",
       "0                 5                          25                      18.0  \n",
       "1                 1                           1                       6.0  \n",
       "2                 5                           0                       0.0  \n",
       "3                 2                          11                       9.0  \n",
       "4                 3                           0                       0.0  \n",
       "...             ...                         ...                       ...  \n",
       "103899            2                           3                       0.0  \n",
       "103900            4                           0                       0.0  \n",
       "103901            4                           7                      14.0  \n",
       "103902            1                           0                       0.0  \n",
       "103903            1                           0                       0.0  \n",
       "\n",
       "[103422 rows x 12 columns]"
      ]
     },
     "execution_count": 8,
     "metadata": {},
     "output_type": "execute_result"
    }
   ],
   "source": [
    "df"
   ]
  },
  {
   "cell_type": "code",
   "execution_count": 10,
   "metadata": {},
   "outputs": [
    {
     "data": {
      "text/plain": [
       "Customer Type\n",
       "1    84517\n",
       "0    18905\n",
       "Name: count, dtype: int64"
      ]
     },
     "execution_count": 10,
     "metadata": {},
     "output_type": "execute_result"
    }
   ],
   "source": [
    "df[\"Customer Type\"].value_counts()"
   ]
  },
  {
   "cell_type": "code",
   "execution_count": 11,
   "id": "12f04bb7",
   "metadata": {},
   "outputs": [],
   "source": [
    "##handle imbalanced data\n",
    "loyal_customer = df[df[\"Customer Type\"] ==1].loc[0:20000]\n",
    "disloyal_customer = df[df[\"Customer Type\"] == 0]\n"
   ]
  },
  {
   "cell_type": "code",
   "execution_count": 12,
   "id": "028e86c6",
   "metadata": {},
   "outputs": [
    {
     "data": {
      "text/html": [
       "<div>\n",
       "<style scoped>\n",
       "    .dataframe tbody tr th:only-of-type {\n",
       "        vertical-align: middle;\n",
       "    }\n",
       "\n",
       "    .dataframe tbody tr th {\n",
       "        vertical-align: top;\n",
       "    }\n",
       "\n",
       "    .dataframe thead th {\n",
       "        text-align: right;\n",
       "    }\n",
       "</style>\n",
       "<table border=\"1\" class=\"dataframe\">\n",
       "  <thead>\n",
       "    <tr style=\"text-align: right;\">\n",
       "      <th></th>\n",
       "      <th>Gender</th>\n",
       "      <th>Customer Type</th>\n",
       "      <th>Type of Travel</th>\n",
       "      <th>Class</th>\n",
       "      <th>satisfaction</th>\n",
       "      <th>Age</th>\n",
       "      <th>Flight Distance</th>\n",
       "      <th>Inflight entertainment</th>\n",
       "      <th>Baggage handling</th>\n",
       "      <th>Cleanliness</th>\n",
       "      <th>Departure Delay in Minutes</th>\n",
       "      <th>Arrival Delay in Minutes</th>\n",
       "    </tr>\n",
       "  </thead>\n",
       "  <tbody>\n",
       "    <tr>\n",
       "      <th>0</th>\n",
       "      <td>1</td>\n",
       "      <td>1</td>\n",
       "      <td>0</td>\n",
       "      <td>3</td>\n",
       "      <td>0</td>\n",
       "      <td>13</td>\n",
       "      <td>460</td>\n",
       "      <td>5</td>\n",
       "      <td>4</td>\n",
       "      <td>5</td>\n",
       "      <td>25</td>\n",
       "      <td>18.0</td>\n",
       "    </tr>\n",
       "    <tr>\n",
       "      <th>2</th>\n",
       "      <td>0</td>\n",
       "      <td>1</td>\n",
       "      <td>1</td>\n",
       "      <td>1</td>\n",
       "      <td>1</td>\n",
       "      <td>26</td>\n",
       "      <td>1142</td>\n",
       "      <td>5</td>\n",
       "      <td>4</td>\n",
       "      <td>5</td>\n",
       "      <td>0</td>\n",
       "      <td>0.0</td>\n",
       "    </tr>\n",
       "    <tr>\n",
       "      <th>3</th>\n",
       "      <td>0</td>\n",
       "      <td>1</td>\n",
       "      <td>1</td>\n",
       "      <td>1</td>\n",
       "      <td>0</td>\n",
       "      <td>25</td>\n",
       "      <td>562</td>\n",
       "      <td>2</td>\n",
       "      <td>3</td>\n",
       "      <td>2</td>\n",
       "      <td>11</td>\n",
       "      <td>9.0</td>\n",
       "    </tr>\n",
       "    <tr>\n",
       "      <th>4</th>\n",
       "      <td>1</td>\n",
       "      <td>1</td>\n",
       "      <td>1</td>\n",
       "      <td>1</td>\n",
       "      <td>1</td>\n",
       "      <td>61</td>\n",
       "      <td>214</td>\n",
       "      <td>3</td>\n",
       "      <td>4</td>\n",
       "      <td>3</td>\n",
       "      <td>0</td>\n",
       "      <td>0.0</td>\n",
       "    </tr>\n",
       "    <tr>\n",
       "      <th>5</th>\n",
       "      <td>0</td>\n",
       "      <td>1</td>\n",
       "      <td>0</td>\n",
       "      <td>2</td>\n",
       "      <td>0</td>\n",
       "      <td>26</td>\n",
       "      <td>1180</td>\n",
       "      <td>1</td>\n",
       "      <td>4</td>\n",
       "      <td>1</td>\n",
       "      <td>0</td>\n",
       "      <td>0.0</td>\n",
       "    </tr>\n",
       "    <tr>\n",
       "      <th>...</th>\n",
       "      <td>...</td>\n",
       "      <td>...</td>\n",
       "      <td>...</td>\n",
       "      <td>...</td>\n",
       "      <td>...</td>\n",
       "      <td>...</td>\n",
       "      <td>...</td>\n",
       "      <td>...</td>\n",
       "      <td>...</td>\n",
       "      <td>...</td>\n",
       "      <td>...</td>\n",
       "      <td>...</td>\n",
       "    </tr>\n",
       "    <tr>\n",
       "      <th>103892</th>\n",
       "      <td>0</td>\n",
       "      <td>0</td>\n",
       "      <td>1</td>\n",
       "      <td>1</td>\n",
       "      <td>0</td>\n",
       "      <td>37</td>\n",
       "      <td>596</td>\n",
       "      <td>3</td>\n",
       "      <td>3</td>\n",
       "      <td>3</td>\n",
       "      <td>110</td>\n",
       "      <td>121.0</td>\n",
       "    </tr>\n",
       "    <tr>\n",
       "      <th>103895</th>\n",
       "      <td>0</td>\n",
       "      <td>0</td>\n",
       "      <td>1</td>\n",
       "      <td>2</td>\n",
       "      <td>0</td>\n",
       "      <td>24</td>\n",
       "      <td>1055</td>\n",
       "      <td>1</td>\n",
       "      <td>5</td>\n",
       "      <td>1</td>\n",
       "      <td>13</td>\n",
       "      <td>10.0</td>\n",
       "    </tr>\n",
       "    <tr>\n",
       "      <th>103899</th>\n",
       "      <td>0</td>\n",
       "      <td>0</td>\n",
       "      <td>1</td>\n",
       "      <td>2</td>\n",
       "      <td>0</td>\n",
       "      <td>23</td>\n",
       "      <td>192</td>\n",
       "      <td>2</td>\n",
       "      <td>4</td>\n",
       "      <td>2</td>\n",
       "      <td>3</td>\n",
       "      <td>0.0</td>\n",
       "    </tr>\n",
       "    <tr>\n",
       "      <th>103901</th>\n",
       "      <td>1</td>\n",
       "      <td>0</td>\n",
       "      <td>1</td>\n",
       "      <td>1</td>\n",
       "      <td>0</td>\n",
       "      <td>30</td>\n",
       "      <td>1995</td>\n",
       "      <td>4</td>\n",
       "      <td>4</td>\n",
       "      <td>4</td>\n",
       "      <td>7</td>\n",
       "      <td>14.0</td>\n",
       "    </tr>\n",
       "    <tr>\n",
       "      <th>103902</th>\n",
       "      <td>0</td>\n",
       "      <td>0</td>\n",
       "      <td>1</td>\n",
       "      <td>2</td>\n",
       "      <td>0</td>\n",
       "      <td>22</td>\n",
       "      <td>1000</td>\n",
       "      <td>1</td>\n",
       "      <td>1</td>\n",
       "      <td>1</td>\n",
       "      <td>0</td>\n",
       "      <td>0.0</td>\n",
       "    </tr>\n",
       "  </tbody>\n",
       "</table>\n",
       "<p>35239 rows × 12 columns</p>\n",
       "</div>"
      ],
      "text/plain": [
       "        Gender  Customer Type  Type of Travel  Class  satisfaction  Age  \\\n",
       "0            1              1               0      3             0   13   \n",
       "2            0              1               1      1             1   26   \n",
       "3            0              1               1      1             0   25   \n",
       "4            1              1               1      1             1   61   \n",
       "5            0              1               0      2             0   26   \n",
       "...        ...            ...             ...    ...           ...  ...   \n",
       "103892       0              0               1      1             0   37   \n",
       "103895       0              0               1      2             0   24   \n",
       "103899       0              0               1      2             0   23   \n",
       "103901       1              0               1      1             0   30   \n",
       "103902       0              0               1      2             0   22   \n",
       "\n",
       "        Flight Distance  Inflight entertainment  Baggage handling  \\\n",
       "0                   460                       5                 4   \n",
       "2                  1142                       5                 4   \n",
       "3                   562                       2                 3   \n",
       "4                   214                       3                 4   \n",
       "5                  1180                       1                 4   \n",
       "...                 ...                     ...               ...   \n",
       "103892              596                       3                 3   \n",
       "103895             1055                       1                 5   \n",
       "103899              192                       2                 4   \n",
       "103901             1995                       4                 4   \n",
       "103902             1000                       1                 1   \n",
       "\n",
       "        Cleanliness  Departure Delay in Minutes  Arrival Delay in Minutes  \n",
       "0                 5                          25                      18.0  \n",
       "2                 5                           0                       0.0  \n",
       "3                 2                          11                       9.0  \n",
       "4                 3                           0                       0.0  \n",
       "5                 1                           0                       0.0  \n",
       "...             ...                         ...                       ...  \n",
       "103892            3                         110                     121.0  \n",
       "103895            1                          13                      10.0  \n",
       "103899            2                           3                       0.0  \n",
       "103901            4                           7                      14.0  \n",
       "103902            1                           0                       0.0  \n",
       "\n",
       "[35239 rows x 12 columns]"
      ]
     },
     "execution_count": 12,
     "metadata": {},
     "output_type": "execute_result"
    }
   ],
   "source": [
    "balance_data = pd.concat([loyal_customer,disloyal_customer],axis=0)\n",
    "balance_data"
   ]
  },
  {
   "cell_type": "code",
   "execution_count": 13,
   "id": "824e3d28",
   "metadata": {},
   "outputs": [
    {
     "data": {
      "text/plain": [
       "Gender                        0\n",
       "Customer Type                 0\n",
       "Type of Travel                0\n",
       "Class                         0\n",
       "satisfaction                  0\n",
       "Age                           0\n",
       "Flight Distance               0\n",
       "Inflight entertainment        0\n",
       "Baggage handling              0\n",
       "Cleanliness                   0\n",
       "Departure Delay in Minutes    0\n",
       "Arrival Delay in Minutes      0\n",
       "dtype: int64"
      ]
     },
     "execution_count": 13,
     "metadata": {},
     "output_type": "execute_result"
    }
   ],
   "source": [
    "balance_data.isnull().sum()"
   ]
  },
  {
   "cell_type": "code",
   "execution_count": null,
   "id": "6482ec15",
   "metadata": {},
   "outputs": [],
   "source": [
    "\n",
    "##x and y -- dependent and independent variables\n",
    "x = balance_data.drop(\"Customer Type\",axis=1)\n",
    "y = balance_data[[\"Customer Type\"]]"
   ]
  },
  {
   "cell_type": "code",
   "execution_count": 15,
   "id": "337d776f",
   "metadata": {},
   "outputs": [],
   "source": [
    "##training and testing \n",
    "from sklearn.model_selection import train_test_split\n",
    "x_train,x_test,y_train,y_test = train_test_split(x,y,test_size=0.2,random_state=42)"
   ]
  },
  {
   "cell_type": "code",
   "execution_count": null,
   "id": "754b1612",
   "metadata": {},
   "outputs": [],
   "source": [
    "#normalize --- data ko ek range ke ander convert krne ke liye\n",
    "from sklearn.preprocessing import StandardScaler\n",
    "##mean = 0 and sd = 1 \n",
    "sc = StandardScaler()\n",
    "x_train_scaled = sc.fit_transform(x_train)\n",
    "##fit --learns the parameter from the data \n",
    "##tranform --applies the parameter on the data\n",
    "##fit_tranform works on training data\n",
    "x_test_scaled = sc.transform(x_test)\n",
    "##transform --applies the parameter on the data\n",
    "##transform works on testing data"
   ]
  },
  {
   "cell_type": "code",
   "execution_count": 20,
   "id": "c4ad0b3a",
   "metadata": {},
   "outputs": [
    {
     "data": {
      "text/plain": [
       "11"
      ]
     },
     "execution_count": 20,
     "metadata": {},
     "output_type": "execute_result"
    }
   ],
   "source": [
    "x_train_scaled.shape[1]"
   ]
  },
  {
   "cell_type": "code",
   "execution_count": 21,
   "id": "42801176",
   "metadata": {},
   "outputs": [
    {
     "name": "stderr",
     "output_type": "stream",
     "text": [
      "c:\\Users\\jaikr\\AppData\\Local\\Programs\\Python\\Python311\\Lib\\site-packages\\keras\\src\\layers\\core\\dense.py:87: UserWarning: Do not pass an `input_shape`/`input_dim` argument to a layer. When using Sequential models, prefer using an `Input(shape)` object as the first layer in the model instead.\n",
      "  super().__init__(activity_regularizer=activity_regularizer, **kwargs)\n"
     ]
    },
    {
     "data": {
      "text/html": [
       "<pre style=\"white-space:pre;overflow-x:auto;line-height:normal;font-family:Menlo,'DejaVu Sans Mono',consolas,'Courier New',monospace\"><span style=\"font-weight: bold\">Model: \"sequential_1\"</span>\n",
       "</pre>\n"
      ],
      "text/plain": [
       "\u001b[1mModel: \"sequential_1\"\u001b[0m\n"
      ]
     },
     "metadata": {},
     "output_type": "display_data"
    },
    {
     "data": {
      "text/html": [
       "<pre style=\"white-space:pre;overflow-x:auto;line-height:normal;font-family:Menlo,'DejaVu Sans Mono',consolas,'Courier New',monospace\">┏━━━━━━━━━━━━━━━━━━━━━━━━━━━━━━━━━┳━━━━━━━━━━━━━━━━━━━━━━━━┳━━━━━━━━━━━━━━━┓\n",
       "┃<span style=\"font-weight: bold\"> Layer (type)                    </span>┃<span style=\"font-weight: bold\"> Output Shape           </span>┃<span style=\"font-weight: bold\">       Param # </span>┃\n",
       "┡━━━━━━━━━━━━━━━━━━━━━━━━━━━━━━━━━╇━━━━━━━━━━━━━━━━━━━━━━━━╇━━━━━━━━━━━━━━━┩\n",
       "│ dense (<span style=\"color: #0087ff; text-decoration-color: #0087ff\">Dense</span>)                   │ (<span style=\"color: #00d7ff; text-decoration-color: #00d7ff\">None</span>, <span style=\"color: #00af00; text-decoration-color: #00af00\">68</span>)             │           <span style=\"color: #00af00; text-decoration-color: #00af00\">816</span> │\n",
       "├─────────────────────────────────┼────────────────────────┼───────────────┤\n",
       "│ dense_1 (<span style=\"color: #0087ff; text-decoration-color: #0087ff\">Dense</span>)                 │ (<span style=\"color: #00d7ff; text-decoration-color: #00d7ff\">None</span>, <span style=\"color: #00af00; text-decoration-color: #00af00\">32</span>)             │         <span style=\"color: #00af00; text-decoration-color: #00af00\">2,208</span> │\n",
       "├─────────────────────────────────┼────────────────────────┼───────────────┤\n",
       "│ dense_2 (<span style=\"color: #0087ff; text-decoration-color: #0087ff\">Dense</span>)                 │ (<span style=\"color: #00d7ff; text-decoration-color: #00d7ff\">None</span>, <span style=\"color: #00af00; text-decoration-color: #00af00\">24</span>)             │           <span style=\"color: #00af00; text-decoration-color: #00af00\">792</span> │\n",
       "├─────────────────────────────────┼────────────────────────┼───────────────┤\n",
       "│ dense_3 (<span style=\"color: #0087ff; text-decoration-color: #0087ff\">Dense</span>)                 │ (<span style=\"color: #00d7ff; text-decoration-color: #00d7ff\">None</span>, <span style=\"color: #00af00; text-decoration-color: #00af00\">12</span>)             │           <span style=\"color: #00af00; text-decoration-color: #00af00\">300</span> │\n",
       "├─────────────────────────────────┼────────────────────────┼───────────────┤\n",
       "│ dense_4 (<span style=\"color: #0087ff; text-decoration-color: #0087ff\">Dense</span>)                 │ (<span style=\"color: #00d7ff; text-decoration-color: #00d7ff\">None</span>, <span style=\"color: #00af00; text-decoration-color: #00af00\">1</span>)              │            <span style=\"color: #00af00; text-decoration-color: #00af00\">13</span> │\n",
       "└─────────────────────────────────┴────────────────────────┴───────────────┘\n",
       "</pre>\n"
      ],
      "text/plain": [
       "┏━━━━━━━━━━━━━━━━━━━━━━━━━━━━━━━━━┳━━━━━━━━━━━━━━━━━━━━━━━━┳━━━━━━━━━━━━━━━┓\n",
       "┃\u001b[1m \u001b[0m\u001b[1mLayer (type)                   \u001b[0m\u001b[1m \u001b[0m┃\u001b[1m \u001b[0m\u001b[1mOutput Shape          \u001b[0m\u001b[1m \u001b[0m┃\u001b[1m \u001b[0m\u001b[1m      Param #\u001b[0m\u001b[1m \u001b[0m┃\n",
       "┡━━━━━━━━━━━━━━━━━━━━━━━━━━━━━━━━━╇━━━━━━━━━━━━━━━━━━━━━━━━╇━━━━━━━━━━━━━━━┩\n",
       "│ dense (\u001b[38;5;33mDense\u001b[0m)                   │ (\u001b[38;5;45mNone\u001b[0m, \u001b[38;5;34m68\u001b[0m)             │           \u001b[38;5;34m816\u001b[0m │\n",
       "├─────────────────────────────────┼────────────────────────┼───────────────┤\n",
       "│ dense_1 (\u001b[38;5;33mDense\u001b[0m)                 │ (\u001b[38;5;45mNone\u001b[0m, \u001b[38;5;34m32\u001b[0m)             │         \u001b[38;5;34m2,208\u001b[0m │\n",
       "├─────────────────────────────────┼────────────────────────┼───────────────┤\n",
       "│ dense_2 (\u001b[38;5;33mDense\u001b[0m)                 │ (\u001b[38;5;45mNone\u001b[0m, \u001b[38;5;34m24\u001b[0m)             │           \u001b[38;5;34m792\u001b[0m │\n",
       "├─────────────────────────────────┼────────────────────────┼───────────────┤\n",
       "│ dense_3 (\u001b[38;5;33mDense\u001b[0m)                 │ (\u001b[38;5;45mNone\u001b[0m, \u001b[38;5;34m12\u001b[0m)             │           \u001b[38;5;34m300\u001b[0m │\n",
       "├─────────────────────────────────┼────────────────────────┼───────────────┤\n",
       "│ dense_4 (\u001b[38;5;33mDense\u001b[0m)                 │ (\u001b[38;5;45mNone\u001b[0m, \u001b[38;5;34m1\u001b[0m)              │            \u001b[38;5;34m13\u001b[0m │\n",
       "└─────────────────────────────────┴────────────────────────┴───────────────┘\n"
      ]
     },
     "metadata": {},
     "output_type": "display_data"
    },
    {
     "data": {
      "text/html": [
       "<pre style=\"white-space:pre;overflow-x:auto;line-height:normal;font-family:Menlo,'DejaVu Sans Mono',consolas,'Courier New',monospace\"><span style=\"font-weight: bold\"> Total params: </span><span style=\"color: #00af00; text-decoration-color: #00af00\">4,129</span> (16.13 KB)\n",
       "</pre>\n"
      ],
      "text/plain": [
       "\u001b[1m Total params: \u001b[0m\u001b[38;5;34m4,129\u001b[0m (16.13 KB)\n"
      ]
     },
     "metadata": {},
     "output_type": "display_data"
    },
    {
     "data": {
      "text/html": [
       "<pre style=\"white-space:pre;overflow-x:auto;line-height:normal;font-family:Menlo,'DejaVu Sans Mono',consolas,'Courier New',monospace\"><span style=\"font-weight: bold\"> Trainable params: </span><span style=\"color: #00af00; text-decoration-color: #00af00\">4,129</span> (16.13 KB)\n",
       "</pre>\n"
      ],
      "text/plain": [
       "\u001b[1m Trainable params: \u001b[0m\u001b[38;5;34m4,129\u001b[0m (16.13 KB)\n"
      ]
     },
     "metadata": {},
     "output_type": "display_data"
    },
    {
     "data": {
      "text/html": [
       "<pre style=\"white-space:pre;overflow-x:auto;line-height:normal;font-family:Menlo,'DejaVu Sans Mono',consolas,'Courier New',monospace\"><span style=\"font-weight: bold\"> Non-trainable params: </span><span style=\"color: #00af00; text-decoration-color: #00af00\">0</span> (0.00 B)\n",
       "</pre>\n"
      ],
      "text/plain": [
       "\u001b[1m Non-trainable params: \u001b[0m\u001b[38;5;34m0\u001b[0m (0.00 B)\n"
      ]
     },
     "metadata": {},
     "output_type": "display_data"
    }
   ],
   "source": [
    "##ann architecture \n",
    "##input layer\n",
    "##hidden layer\n",
    "##output layer\n",
    "# pip install tensorflow -- cmd \n",
    "from tensorflow.keras.models import Sequential\n",
    "from tensorflow.keras.layers import Dense\n",
    "#ann model defining \n",
    "model = Sequential()\n",
    "\n",
    "##input layer \n",
    "model.add(Dense(68,activation=\"relu\",input_dim = x_train_scaled.shape[1]))\n",
    "##hidden layer \n",
    "model.add(Dense(32,activation=\"relu\"))\n",
    "model.add(Dense(24,activation=\"relu\"))\n",
    "model.add(Dense(12,activation=\"relu\"))\n",
    "\n",
    "##ouput layer \n",
    "model.add(Dense(1,activation=\"sigmoid\"))\n",
    "\n",
    "##model compile\n",
    "model.compile(loss = \"binary_crossentropy\",optimizer=\"adam\",metrics=[\"accuracy\"])\n",
    "model.summary()"
   ]
  },
  {
   "cell_type": "code",
   "execution_count": 23,
   "id": "c33d527a",
   "metadata": {},
   "outputs": [
    {
     "data": {
      "text/plain": [
       "300"
      ]
     },
     "execution_count": 23,
     "metadata": {},
     "output_type": "execute_result"
    }
   ],
   "source": [
    "##formula for no of hidden layers = (no of inputs + no of outputs)/2\n",
    "##formula of calcualting weights\n",
    "# params = (input features +1) * no of neurons at layers \n",
    "##input layer \n",
    "(11+1)*68\n",
    "##hidden layer \n",
    "(68+1)*32\n",
    "(32+1)*24\n",
    "(24+1)*12\n",
    "\n",
    "\n"
   ]
  },
  {
   "cell_type": "code",
   "execution_count": 24,
   "id": "da717095",
   "metadata": {},
   "outputs": [
    {
     "name": "stdout",
     "output_type": "stream",
     "text": [
      "Epoch 1/20\n",
      "\u001b[1m881/881\u001b[0m \u001b[32m━━━━━━━━━━━━━━━━━━━━\u001b[0m\u001b[37m\u001b[0m \u001b[1m4s\u001b[0m 2ms/step - accuracy: 0.8587 - loss: 0.3545 - val_accuracy: 0.9064 - val_loss: 0.2355\n",
      "Epoch 2/20\n",
      "\u001b[1m881/881\u001b[0m \u001b[32m━━━━━━━━━━━━━━━━━━━━\u001b[0m\u001b[37m\u001b[0m \u001b[1m2s\u001b[0m 2ms/step - accuracy: 0.9079 - loss: 0.2404 - val_accuracy: 0.9115 - val_loss: 0.2286\n",
      "Epoch 3/20\n",
      "\u001b[1m881/881\u001b[0m \u001b[32m━━━━━━━━━━━━━━━━━━━━\u001b[0m\u001b[37m\u001b[0m \u001b[1m2s\u001b[0m 2ms/step - accuracy: 0.9127 - loss: 0.2263 - val_accuracy: 0.9150 - val_loss: 0.2218\n",
      "Epoch 4/20\n",
      "\u001b[1m881/881\u001b[0m \u001b[32m━━━━━━━━━━━━━━━━━━━━\u001b[0m\u001b[37m\u001b[0m \u001b[1m2s\u001b[0m 2ms/step - accuracy: 0.9160 - loss: 0.2130 - val_accuracy: 0.9191 - val_loss: 0.2136\n",
      "Epoch 5/20\n",
      "\u001b[1m881/881\u001b[0m \u001b[32m━━━━━━━━━━━━━━━━━━━━\u001b[0m\u001b[37m\u001b[0m \u001b[1m2s\u001b[0m 2ms/step - accuracy: 0.9181 - loss: 0.2085 - val_accuracy: 0.9193 - val_loss: 0.2129\n",
      "Epoch 6/20\n",
      "\u001b[1m881/881\u001b[0m \u001b[32m━━━━━━━━━━━━━━━━━━━━\u001b[0m\u001b[37m\u001b[0m \u001b[1m2s\u001b[0m 2ms/step - accuracy: 0.9224 - loss: 0.2013 - val_accuracy: 0.9210 - val_loss: 0.2119\n",
      "Epoch 7/20\n",
      "\u001b[1m881/881\u001b[0m \u001b[32m━━━━━━━━━━━━━━━━━━━━\u001b[0m\u001b[37m\u001b[0m \u001b[1m2s\u001b[0m 2ms/step - accuracy: 0.9218 - loss: 0.2044 - val_accuracy: 0.9237 - val_loss: 0.2035\n",
      "Epoch 8/20\n",
      "\u001b[1m881/881\u001b[0m \u001b[32m━━━━━━━━━━━━━━━━━━━━\u001b[0m\u001b[37m\u001b[0m \u001b[1m2s\u001b[0m 2ms/step - accuracy: 0.9245 - loss: 0.1959 - val_accuracy: 0.9240 - val_loss: 0.2034\n",
      "Epoch 9/20\n",
      "\u001b[1m881/881\u001b[0m \u001b[32m━━━━━━━━━━━━━━━━━━━━\u001b[0m\u001b[37m\u001b[0m \u001b[1m2s\u001b[0m 2ms/step - accuracy: 0.9292 - loss: 0.1885 - val_accuracy: 0.9266 - val_loss: 0.2007\n",
      "Epoch 10/20\n",
      "\u001b[1m881/881\u001b[0m \u001b[32m━━━━━━━━━━━━━━━━━━━━\u001b[0m\u001b[37m\u001b[0m \u001b[1m2s\u001b[0m 2ms/step - accuracy: 0.9280 - loss: 0.1864 - val_accuracy: 0.9262 - val_loss: 0.2023\n",
      "Epoch 11/20\n",
      "\u001b[1m881/881\u001b[0m \u001b[32m━━━━━━━━━━━━━━━━━━━━\u001b[0m\u001b[37m\u001b[0m \u001b[1m2s\u001b[0m 2ms/step - accuracy: 0.9258 - loss: 0.1926 - val_accuracy: 0.9258 - val_loss: 0.2004\n",
      "Epoch 12/20\n",
      "\u001b[1m881/881\u001b[0m \u001b[32m━━━━━━━━━━━━━━━━━━━━\u001b[0m\u001b[37m\u001b[0m \u001b[1m2s\u001b[0m 2ms/step - accuracy: 0.9298 - loss: 0.1816 - val_accuracy: 0.9264 - val_loss: 0.1963\n",
      "Epoch 13/20\n",
      "\u001b[1m881/881\u001b[0m \u001b[32m━━━━━━━━━━━━━━━━━━━━\u001b[0m\u001b[37m\u001b[0m \u001b[1m2s\u001b[0m 2ms/step - accuracy: 0.9315 - loss: 0.1797 - val_accuracy: 0.9238 - val_loss: 0.2000\n",
      "Epoch 14/20\n",
      "\u001b[1m881/881\u001b[0m \u001b[32m━━━━━━━━━━━━━━━━━━━━\u001b[0m\u001b[37m\u001b[0m \u001b[1m2s\u001b[0m 2ms/step - accuracy: 0.9298 - loss: 0.1844 - val_accuracy: 0.9259 - val_loss: 0.2012\n",
      "Epoch 15/20\n",
      "\u001b[1m881/881\u001b[0m \u001b[32m━━━━━━━━━━━━━━━━━━━━\u001b[0m\u001b[37m\u001b[0m \u001b[1m2s\u001b[0m 2ms/step - accuracy: 0.9310 - loss: 0.1798 - val_accuracy: 0.9235 - val_loss: 0.2040\n",
      "Epoch 16/20\n",
      "\u001b[1m881/881\u001b[0m \u001b[32m━━━━━━━━━━━━━━━━━━━━\u001b[0m\u001b[37m\u001b[0m \u001b[1m2s\u001b[0m 3ms/step - accuracy: 0.9286 - loss: 0.1807 - val_accuracy: 0.9266 - val_loss: 0.1953\n",
      "Epoch 17/20\n",
      "\u001b[1m881/881\u001b[0m \u001b[32m━━━━━━━━━━━━━━━━━━━━\u001b[0m\u001b[37m\u001b[0m \u001b[1m2s\u001b[0m 2ms/step - accuracy: 0.9305 - loss: 0.1771 - val_accuracy: 0.9264 - val_loss: 0.1971\n",
      "Epoch 18/20\n",
      "\u001b[1m881/881\u001b[0m \u001b[32m━━━━━━━━━━━━━━━━━━━━\u001b[0m\u001b[37m\u001b[0m \u001b[1m2s\u001b[0m 2ms/step - accuracy: 0.9293 - loss: 0.1801 - val_accuracy: 0.9254 - val_loss: 0.1987\n",
      "Epoch 19/20\n",
      "\u001b[1m881/881\u001b[0m \u001b[32m━━━━━━━━━━━━━━━━━━━━\u001b[0m\u001b[37m\u001b[0m \u001b[1m2s\u001b[0m 2ms/step - accuracy: 0.9317 - loss: 0.1742 - val_accuracy: 0.9254 - val_loss: 0.1959\n",
      "Epoch 20/20\n",
      "\u001b[1m881/881\u001b[0m \u001b[32m━━━━━━━━━━━━━━━━━━━━\u001b[0m\u001b[37m\u001b[0m \u001b[1m2s\u001b[0m 2ms/step - accuracy: 0.9316 - loss: 0.1774 - val_accuracy: 0.9247 - val_loss: 0.1946\n"
     ]
    }
   ],
   "source": [
    "##train the model \n",
    "history = model.fit(\n",
    "    x_train_scaled,\n",
    "    y_train,\n",
    "    epochs = 20, \n",
    "    validation_data = (x_test_scaled,y_test) \n",
    ")"
   ]
  },
  {
   "cell_type": "code",
   "execution_count": 25,
   "id": "01ddbd4d",
   "metadata": {},
   "outputs": [
    {
     "data": {
      "text/html": [
       "<div>\n",
       "<style scoped>\n",
       "    .dataframe tbody tr th:only-of-type {\n",
       "        vertical-align: middle;\n",
       "    }\n",
       "\n",
       "    .dataframe tbody tr th {\n",
       "        vertical-align: top;\n",
       "    }\n",
       "\n",
       "    .dataframe thead th {\n",
       "        text-align: right;\n",
       "    }\n",
       "</style>\n",
       "<table border=\"1\" class=\"dataframe\">\n",
       "  <thead>\n",
       "    <tr style=\"text-align: right;\">\n",
       "      <th></th>\n",
       "      <th>accuracy</th>\n",
       "      <th>loss</th>\n",
       "      <th>val_accuracy</th>\n",
       "      <th>val_loss</th>\n",
       "    </tr>\n",
       "  </thead>\n",
       "  <tbody>\n",
       "    <tr>\n",
       "      <th>0</th>\n",
       "      <td>0.892661</td>\n",
       "      <td>0.282349</td>\n",
       "      <td>0.906356</td>\n",
       "      <td>0.235509</td>\n",
       "    </tr>\n",
       "    <tr>\n",
       "      <th>1</th>\n",
       "      <td>0.908127</td>\n",
       "      <td>0.235219</td>\n",
       "      <td>0.911464</td>\n",
       "      <td>0.228602</td>\n",
       "    </tr>\n",
       "    <tr>\n",
       "      <th>2</th>\n",
       "      <td>0.912561</td>\n",
       "      <td>0.225035</td>\n",
       "      <td>0.915011</td>\n",
       "      <td>0.221794</td>\n",
       "    </tr>\n",
       "    <tr>\n",
       "      <th>3</th>\n",
       "      <td>0.916179</td>\n",
       "      <td>0.215604</td>\n",
       "      <td>0.919126</td>\n",
       "      <td>0.213572</td>\n",
       "    </tr>\n",
       "    <tr>\n",
       "      <th>4</th>\n",
       "      <td>0.919088</td>\n",
       "      <td>0.209535</td>\n",
       "      <td>0.919268</td>\n",
       "      <td>0.212892</td>\n",
       "    </tr>\n",
       "    <tr>\n",
       "      <th>5</th>\n",
       "      <td>0.921996</td>\n",
       "      <td>0.203777</td>\n",
       "      <td>0.920970</td>\n",
       "      <td>0.211899</td>\n",
       "    </tr>\n",
       "    <tr>\n",
       "      <th>6</th>\n",
       "      <td>0.923522</td>\n",
       "      <td>0.199214</td>\n",
       "      <td>0.923666</td>\n",
       "      <td>0.203477</td>\n",
       "    </tr>\n",
       "    <tr>\n",
       "      <th>7</th>\n",
       "      <td>0.923947</td>\n",
       "      <td>0.196536</td>\n",
       "      <td>0.923950</td>\n",
       "      <td>0.203361</td>\n",
       "    </tr>\n",
       "    <tr>\n",
       "      <th>8</th>\n",
       "      <td>0.925721</td>\n",
       "      <td>0.193838</td>\n",
       "      <td>0.926646</td>\n",
       "      <td>0.200668</td>\n",
       "    </tr>\n",
       "    <tr>\n",
       "      <th>9</th>\n",
       "      <td>0.926324</td>\n",
       "      <td>0.191453</td>\n",
       "      <td>0.926220</td>\n",
       "      <td>0.202346</td>\n",
       "    </tr>\n",
       "    <tr>\n",
       "      <th>10</th>\n",
       "      <td>0.928062</td>\n",
       "      <td>0.188254</td>\n",
       "      <td>0.925795</td>\n",
       "      <td>0.200368</td>\n",
       "    </tr>\n",
       "    <tr>\n",
       "      <th>11</th>\n",
       "      <td>0.929481</td>\n",
       "      <td>0.186034</td>\n",
       "      <td>0.926362</td>\n",
       "      <td>0.196281</td>\n",
       "    </tr>\n",
       "    <tr>\n",
       "      <th>12</th>\n",
       "      <td>0.928523</td>\n",
       "      <td>0.184913</td>\n",
       "      <td>0.923808</td>\n",
       "      <td>0.199989</td>\n",
       "    </tr>\n",
       "    <tr>\n",
       "      <th>13</th>\n",
       "      <td>0.929375</td>\n",
       "      <td>0.183538</td>\n",
       "      <td>0.925936</td>\n",
       "      <td>0.201161</td>\n",
       "    </tr>\n",
       "    <tr>\n",
       "      <th>14</th>\n",
       "      <td>0.929942</td>\n",
       "      <td>0.181591</td>\n",
       "      <td>0.923524</td>\n",
       "      <td>0.203970</td>\n",
       "    </tr>\n",
       "    <tr>\n",
       "      <th>15</th>\n",
       "      <td>0.929800</td>\n",
       "      <td>0.181688</td>\n",
       "      <td>0.926646</td>\n",
       "      <td>0.195314</td>\n",
       "    </tr>\n",
       "    <tr>\n",
       "      <th>16</th>\n",
       "      <td>0.929694</td>\n",
       "      <td>0.180847</td>\n",
       "      <td>0.926362</td>\n",
       "      <td>0.197075</td>\n",
       "    </tr>\n",
       "    <tr>\n",
       "      <th>17</th>\n",
       "      <td>0.930439</td>\n",
       "      <td>0.179561</td>\n",
       "      <td>0.925369</td>\n",
       "      <td>0.198666</td>\n",
       "    </tr>\n",
       "    <tr>\n",
       "      <th>18</th>\n",
       "      <td>0.931467</td>\n",
       "      <td>0.177618</td>\n",
       "      <td>0.925369</td>\n",
       "      <td>0.195852</td>\n",
       "    </tr>\n",
       "    <tr>\n",
       "      <th>19</th>\n",
       "      <td>0.931858</td>\n",
       "      <td>0.176607</td>\n",
       "      <td>0.924659</td>\n",
       "      <td>0.194584</td>\n",
       "    </tr>\n",
       "  </tbody>\n",
       "</table>\n",
       "</div>"
      ],
      "text/plain": [
       "    accuracy      loss  val_accuracy  val_loss\n",
       "0   0.892661  0.282349      0.906356  0.235509\n",
       "1   0.908127  0.235219      0.911464  0.228602\n",
       "2   0.912561  0.225035      0.915011  0.221794\n",
       "3   0.916179  0.215604      0.919126  0.213572\n",
       "4   0.919088  0.209535      0.919268  0.212892\n",
       "5   0.921996  0.203777      0.920970  0.211899\n",
       "6   0.923522  0.199214      0.923666  0.203477\n",
       "7   0.923947  0.196536      0.923950  0.203361\n",
       "8   0.925721  0.193838      0.926646  0.200668\n",
       "9   0.926324  0.191453      0.926220  0.202346\n",
       "10  0.928062  0.188254      0.925795  0.200368\n",
       "11  0.929481  0.186034      0.926362  0.196281\n",
       "12  0.928523  0.184913      0.923808  0.199989\n",
       "13  0.929375  0.183538      0.925936  0.201161\n",
       "14  0.929942  0.181591      0.923524  0.203970\n",
       "15  0.929800  0.181688      0.926646  0.195314\n",
       "16  0.929694  0.180847      0.926362  0.197075\n",
       "17  0.930439  0.179561      0.925369  0.198666\n",
       "18  0.931467  0.177618      0.925369  0.195852\n",
       "19  0.931858  0.176607      0.924659  0.194584"
      ]
     },
     "execution_count": 25,
     "metadata": {},
     "output_type": "execute_result"
    }
   ],
   "source": [
    "##model evaluation technique \n",
    "training_details = pd.DataFrame(history.history)\n",
    "training_details"
   ]
  },
  {
   "cell_type": "code",
   "execution_count": 26,
   "id": "75f9f9d5",
   "metadata": {},
   "outputs": [
    {
     "data": {
      "text/plain": [
       "<Axes: >"
      ]
     },
     "execution_count": 26,
     "metadata": {},
     "output_type": "execute_result"
    },
    {
     "data": {
      "image/png": "[encoded data removed]",
      "text/plain": [
       "<Figure size 640x480 with 1 Axes>"
      ]
     },
     "metadata": {},
     "output_type": "display_data"
    }
   ],
   "source": [
    "training_details.plot()"
   ]
  },
  {
   "cell_type": "code",
   "execution_count": 29,
   "id": "da756541",
   "metadata": {},
   "outputs": [
    {
     "name": "stdout",
     "output_type": "stream",
     "text": [
      "\u001b[1m221/221\u001b[0m \u001b[32m━━━━━━━━━━━━━━━━━━━━\u001b[0m\u001b[37m\u001b[0m \u001b[1m0s\u001b[0m 831us/step\n"
     ]
    },
    {
     "data": {
      "text/plain": [
       "array([1, 0, 0, ..., 1, 0, 1])"
      ]
     },
     "execution_count": 29,
     "metadata": {},
     "output_type": "execute_result"
    }
   ],
   "source": [
    "##get precdictions probability\n",
    "y_pred = model.predict(x_test_scaled)\n",
    "prediction_label = (y_pred>0.5).astype(\"int\").ravel()\n",
    "##ravel == multidimension array ko 1d array me convert kar deta hai \n",
    "prediction_label"
   ]
  },
  {
   "cell_type": "code",
   "execution_count": 28,
   "id": "30f60b48",
   "metadata": {},
   "outputs": [],
   "source": [
    "##regression -- mse , mae , rmse \n",
    "##class -- confusion matrix , accuracy , precision , recall , f1 score\n",
    "from sklearn.metrics import confusion_matrix, classification_report\n"
   ]
  },
  {
   "cell_type": "code",
   "execution_count": 32,
   "id": "670262e0",
   "metadata": {},
   "outputs": [
    {
     "data": {
      "text/plain": [
       "<Axes: >"
      ]
     },
     "execution_count": 32,
     "metadata": {},
     "output_type": "execute_result"
    },
    {
     "data": {
      "image/png": "[encoded data removed]",
      "text/plain": [
       "<Figure size 640x480 with 2 Axes>"
      ]
     },
     "metadata": {},
     "output_type": "display_data"
    }
   ],
   "source": [
    "##\n",
    "cm = confusion_matrix(y_test,prediction_label)\n",
    "##heatmap \n",
    "import seaborn as sns\n",
    "sns.heatmap(cm,annot=True,fmt=\"d\")\n"
   ]
  },
  {
   "cell_type": "code",
   "execution_count": 33,
   "id": "82c707a3",
   "metadata": {},
   "outputs": [
    {
     "name": "stdout",
     "output_type": "stream",
     "text": [
      "              precision    recall  f1-score   support\n",
      "\n",
      "           0       0.92      0.94      0.93      3776\n",
      "           1       0.93      0.91      0.92      3272\n",
      "\n",
      "    accuracy                           0.92      7048\n",
      "   macro avg       0.93      0.92      0.92      7048\n",
      "weighted avg       0.92      0.92      0.92      7048\n",
      "\n"
     ]
    }
   ],
   "source": [
    "print(classification_report(y_test,prediction_label))"
   ]
  },
  {
   "cell_type": "code",
   "execution_count": 34,
   "id": "3ddba567",
   "metadata": {},
   "outputs": [
    {
     "name": "stderr",
     "output_type": "stream",
     "text": [
      "WARNING:absl:You are saving your model as an HDF5 file via `model.save()` or `keras.saving.save_model(model)`. This file format is considered legacy. We recommend using instead the native Keras format, e.g. `model.save('my_model.keras')` or `keras.saving.save_model(model, 'my_model.keras')`. \n"
     ]
    }
   ],
   "source": [
    "##you can save your model \n",
    "model.save(\"customer_satisfaction.h5\")"
   ]
  },
  {
   "cell_type": "code",
   "execution_count": null,
   "id": "da7811d9",
   "metadata": {},
   "outputs": [],
   "source": [
    "##you can load your model \n",
    "from tensorflow.keras.models import load_model\n",
    "model = load_model(\"customer_satisfaction.h5\")"
   ]
  }
 ],
 "metadata": {
  "kernelspec": {
   "display_name": "Python 3",
   "language": "python",
   "name": "python3"
  },
  "language_info": {
   "codemirror_mode": {
    "name": "ipython",
    "version": 3
   },
   "file_extension": ".py",
   "mimetype": "text/x-python",
   "name": "python",
   "nbconvert_exporter": "python",
   "pygments_lexer": "ipython3",
   "version": "3.11.9"
  }
 },
 "nbformat": 4,
 "nbformat_minor": 5
}
