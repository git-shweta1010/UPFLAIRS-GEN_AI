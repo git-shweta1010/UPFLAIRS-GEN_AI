{
 "cells": [
  {
   "cell_type": "code",
   "execution_count": null,
   "id": "4e780c46",
   "metadata": {},
   "outputs": [],
   "source": [
    "# text ----> numbers /// vectors \n",
    "\n",
    "##one hot encoding\n",
    "##tfidf \n",
    "##word2vec\n",
    "##BOW"
   ]
  },
  {
   "cell_type": "code",
   "execution_count": null,
   "id": "3470b5db",
   "metadata": {},
   "outputs": [],
   "source": []
  },
  {
   "cell_type": "code",
   "execution_count": null,
   "id": "4db7002b",
   "metadata": {},
   "outputs": [],
   "source": []
  },
  {
   "cell_type": "code",
   "execution_count": null,
   "id": "2b345427",
   "metadata": {},
   "outputs": [],
   "source": []
  },
  {
   "cell_type": "code",
   "execution_count": null,
   "id": "99041f21",
   "metadata": {},
   "outputs": [],
   "source": []
  },
  {
   "cell_type": "code",
   "execution_count": null,
   "id": "533dd510",
   "metadata": {},
   "outputs": [],
   "source": []
  }
 ],
 "metadata": {
  "language_info": {
   "name": "python"
  }
 },
 "nbformat": 4,
 "nbformat_minor": 5
}
