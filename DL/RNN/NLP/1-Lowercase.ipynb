{
 "cells": [
  {
   "cell_type": "code",
   "execution_count": null,
   "id": "3a43aa73",
   "metadata": {},
   "outputs": [],
   "source": [
    "# text comparison -- lowercase"
   ]
  },
  {
   "cell_type": "code",
   "execution_count": null,
   "id": "e0519ecb",
   "metadata": {},
   "outputs": [],
   "source": [
    "### lower()\n"
   ]
  },
  {
   "cell_type": "code",
   "execution_count": null,
   "id": "87e9075d",
   "metadata": {},
   "outputs": [],
   "source": []
  },
  {
   "cell_type": "code",
   "execution_count": null,
   "id": "02586b48",
   "metadata": {},
   "outputs": [],
   "source": []
  },
  {
   "cell_type": "code",
   "execution_count": null,
   "id": "0bc8c848",
   "metadata": {},
   "outputs": [],
   "source": []
  }
 ],
 "metadata": {
  "language_info": {
   "name": "python"
  }
 },
 "nbformat": 4,
 "nbformat_minor": 5
}
