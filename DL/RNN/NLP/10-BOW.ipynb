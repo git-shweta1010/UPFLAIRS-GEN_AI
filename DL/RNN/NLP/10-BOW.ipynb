{
 "cells": [
  {
   "cell_type": "code",
   "execution_count": null,
   "id": "2a049c50",
   "metadata": {},
   "outputs": [],
   "source": [
    "##OHE vs BOW \n",
    "##ohe -- words --- 1, 0 -- haar word same importance \n",
    "## bow --- frq count "
   ]
  },
  {
   "cell_type": "code",
   "execution_count": null,
   "id": "b25724f1",
   "metadata": {},
   "outputs": [],
   "source": [
    "# Doc1: \"I love NLP\"     \n",
    "# Doc2: \"NLP loves me\""
   ]
  },
  {
   "cell_type": "code",
   "execution_count": null,
   "id": "f7da82e0",
   "metadata": {},
   "outputs": [],
   "source": [
    "##unique words\n",
    "##              i , love , nlp , loves , me \n",
    "#doc1 -        [1,0,1,1,0]\n",
    "#doc2 -        [0,0,1,1,1]"
   ]
  },
  {
   "cell_type": "code",
   "execution_count": 1,
   "id": "d00bedce",
   "metadata": {},
   "outputs": [],
   "source": [
    "from sklearn.feature_extraction.text import CountVectorizer\n",
    "cv = CountVectorizer()"
   ]
  },
  {
   "cell_type": "code",
   "execution_count": 2,
   "id": "3fb9142e",
   "metadata": {},
   "outputs": [],
   "source": [
    "doc = [\n",
    "    \"I love NLP\" ,\n",
    "    \"NLP loves me\",\n",
    "    \"I love Machine Learning\"\n",
    "]"
   ]
  },
  {
   "cell_type": "code",
   "execution_count": 3,
   "id": "98875c01",
   "metadata": {},
   "outputs": [
    {
     "data": {
      "text/plain": [
       "array([[0, 1, 0, 0, 0, 1],\n",
       "       [0, 0, 1, 0, 1, 1],\n",
       "       [1, 1, 0, 1, 0, 0]], dtype=int64)"
      ]
     },
     "execution_count": 3,
     "metadata": {},
     "output_type": "execute_result"
    }
   ],
   "source": [
    "cv.fit_transform(doc).toarray()"
   ]
  },
  {
   "cell_type": "code",
   "execution_count": 4,
   "id": "fb0477ea",
   "metadata": {},
   "outputs": [
    {
     "data": {
      "text/plain": [
       "array(['learning', 'love', 'loves', 'machine', 'me', 'nlp'], dtype=object)"
      ]
     },
     "execution_count": 4,
     "metadata": {},
     "output_type": "execute_result"
    }
   ],
   "source": [
    "cv.get_feature_names_out()"
   ]
  },
  {
   "cell_type": "code",
   "execution_count": null,
   "id": "93099443",
   "metadata": {},
   "outputs": [],
   "source": [
    "# Each row = a document\n",
    "# Each column = frequency of a word in the vocabulary"
   ]
  }
 ],
 "metadata": {
  "kernelspec": {
   "display_name": "Python 3",
   "language": "python",
   "name": "python3"
  },
  "language_info": {
   "codemirror_mode": {
    "name": "ipython",
    "version": 3
   },
   "file_extension": ".py",
   "mimetype": "text/x-python",
   "name": "python",
   "nbconvert_exporter": "python",
   "pygments_lexer": "ipython3",
   "version": "3.11.9"
  }
 },
 "nbformat": 4,
 "nbformat_minor": 5
}
