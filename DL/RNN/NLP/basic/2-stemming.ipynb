{
 "cells": [
  {
   "cell_type": "code",
   "execution_count": null,
   "id": "b4372f78",
   "metadata": {},
   "outputs": [],
   "source": [
    "##stemming - pre processing tech \n",
    "## work of this is to reduce the word to its root word\n",
    "\n",
    "#connect , connected , connecting\n",
    "#playing , played , plays -- play\n",
    "\n",
    "##text analysis "
   ]
  },
  {
   "cell_type": "code",
   "execution_count": 1,
   "id": "2ea948dc",
   "metadata": {},
   "outputs": [],
   "source": [
    "words = [\"eating\",\"eats\",\"eaten\",\"writing\",\"writes\",\"programming\",\n",
    "         \"programms\",\"history\",\"finally\",\"finalized\"]"
   ]
  },
  {
   "cell_type": "code",
   "execution_count": 3,
   "id": "726316df",
   "metadata": {},
   "outputs": [
    {
     "name": "stdout",
     "output_type": "stream",
     "text": [
      "eating ------> eat\n",
      "eats ------> eat\n",
      "eaten ------> eaten\n",
      "writing ------> write\n",
      "writes ------> write\n",
      "programming ------> program\n",
      "programms ------> programm\n",
      "history ------> histori\n",
      "finally ------> final\n",
      "finalized ------> final\n"
     ]
    }
   ],
   "source": [
    "##porter stemmer -- most widely used \n",
    "##note - \n",
    "##the output word may not always be a valid english word \n",
    "\n",
    "from nltk.stem import PorterStemmer\n",
    "stemming = PorterStemmer()\n",
    "for word in words:\n",
    "    print(word,\"------>\",stemming.stem(word))"
   ]
  },
  {
   "cell_type": "code",
   "execution_count": 5,
   "id": "7a3cfa75",
   "metadata": {},
   "outputs": [
    {
     "data": {
      "text/plain": [
       "'sit'"
      ]
     },
     "execution_count": 5,
     "metadata": {},
     "output_type": "execute_result"
    }
   ],
   "source": [
    "##nlp --- nltk \n",
    "##to install nltk \n",
    "##pip install nltk\n",
    "stemming.stem(\"sitting\")"
   ]
  },
  {
   "cell_type": "code",
   "execution_count": null,
   "id": "6c4fb090",
   "metadata": {},
   "outputs": [],
   "source": [
    "##regex stemmer  -- regex -- regular expression\n",
    "##is a seq of character that forms a search pattern \n",
    "##regex can be used to check if a string conatins the \n",
    "# specified search pattern or not "
   ]
  },
  {
   "cell_type": "code",
   "execution_count": null,
   "id": "7b8bb18e",
   "metadata": {},
   "outputs": [
    {
     "data": {
      "text/plain": [
       "'sittin'"
      ]
     },
     "execution_count": 10,
     "metadata": {},
     "output_type": "execute_result"
    }
   ],
   "source": [
    "from nltk.stem import RegexpStemmer\n",
    "reg_stemmer = RegexpStemmer('ing$|s$|e$|able$|gly$',min=4)\n",
    "reg_stemmer.stem(\"sitting\")\n",
    "reg_stemmer.stem(\"sittingly\")"
   ]
  },
  {
   "cell_type": "code",
   "execution_count": 11,
   "id": "af775c49",
   "metadata": {},
   "outputs": [
    {
     "data": {
      "text/plain": [
       "'sit'"
      ]
     },
     "execution_count": 11,
     "metadata": {},
     "output_type": "execute_result"
    }
   ],
   "source": [
    "##snowball stemmer -- updated version of porter stemmer//porter2 \n",
    "from nltk.stem import SnowballStemmer\n",
    "snow_stemmer = SnowballStemmer('english')\n",
    "snow_stemmer.stem(\"sitting\")"
   ]
  },
  {
   "cell_type": "code",
   "execution_count": null,
   "id": "352fadb7",
   "metadata": {},
   "outputs": [],
   "source": [
    "##corpus "
   ]
  }
 ],
 "metadata": {
  "kernelspec": {
   "display_name": "Python 3",
   "language": "python",
   "name": "python3"
  },
  "language_info": {
   "codemirror_mode": {
    "name": "ipython",
    "version": 3
   },
   "file_extension": ".py",
   "mimetype": "text/x-python",
   "name": "python",
   "nbconvert_exporter": "python",
   "pygments_lexer": "ipython3",
   "version": "3.11.9"
  }
 },
 "nbformat": 4,
 "nbformat_minor": 5
}
