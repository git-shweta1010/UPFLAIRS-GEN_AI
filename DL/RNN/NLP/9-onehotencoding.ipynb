{
 "cells": [
  {
   "cell_type": "code",
   "execution_count": null,
   "id": "eda054fe",
   "metadata": {},
   "outputs": [],
   "source": [
    "##categorical data to numerical data into a binary vector represntation\n",
    "\n",
    "\n",
    "##each unique word in your vocabulary is assigned a unique number\n",
    "## a word is then represnted \n",
    "##---> 1 if the word is present in the sentence\n",
    "##---> 0 if the word is not present in the sentence"
   ]
  },
  {
   "cell_type": "code",
   "execution_count": null,
   "id": "714de2ac",
   "metadata": {},
   "outputs": [],
   "source": [
    "# [\"I\",\"am\",\"learning\",\"NLP\"] -- words \n",
    "\n",
    "##step 1 -- is to find all the unique words in your vocabulary\n",
    "# I                               - [1,0,0,0]\n",
    "# am                               -[0,1,0,0]\n",
    "# learning                         -[0,0,1,0]\n",
    "# NLP                              -[0,0,0,1]"
   ]
  },
  {
   "cell_type": "code",
   "execution_count": null,
   "id": "ced84791",
   "metadata": {},
   "outputs": [],
   "source": [
    "#sparse matrix -- a matrix where most of the elements are zero\n",
    "#dense matrix -- a matrix where most of the elements are non-zero"
   ]
  },
  {
   "cell_type": "code",
   "execution_count": null,
   "id": "ece44f3b",
   "metadata": {},
   "outputs": [
    {
     "name": "stdout",
     "output_type": "stream",
     "text": [
      "[[1. 0. 0.]\n",
      " [0. 0. 1.]\n",
      " [0. 1. 0.]]\n"
     ]
    }
   ],
   "source": [
    "from sklearn.preprocessing import OneHotEncoder\n",
    "import numpy as np\n",
    "\n",
    "words = np.array([\"I\",\"love\",\"NLP\"]).reshape(-1,1)\n",
    "#sparse_output is used in old version of scikit learn\n",
    "##sparse is used in new version of scikit learn \n",
    "encoder = OneHotEncoder(sparse_output=False)\n",
    "\n",
    "one_hot = encoder.fit_transform(words)\n",
    "\n",
    "print(one_hot)\n"
   ]
  },
  {
   "cell_type": "code",
   "execution_count": null,
   "id": "7bba271e",
   "metadata": {},
   "outputs": [],
   "source": []
  },
  {
   "cell_type": "code",
   "execution_count": null,
   "id": "7df361a9",
   "metadata": {},
   "outputs": [],
   "source": []
  },
  {
   "cell_type": "code",
   "execution_count": null,
   "id": "420523d6",
   "metadata": {},
   "outputs": [],
   "source": []
  },
  {
   "cell_type": "code",
   "execution_count": null,
   "id": "e24ee083",
   "metadata": {},
   "outputs": [],
   "source": []
  },
  {
   "cell_type": "code",
   "execution_count": null,
   "id": "c1fadee5",
   "metadata": {},
   "outputs": [],
   "source": []
  },
  {
   "cell_type": "code",
   "execution_count": null,
   "id": "080120b4",
   "metadata": {},
   "outputs": [],
   "source": []
  },
  {
   "cell_type": "code",
   "execution_count": null,
   "id": "083613d8",
   "metadata": {},
   "outputs": [],
   "source": []
  }
 ],
 "metadata": {
  "kernelspec": {
   "display_name": "Python 3",
   "language": "python",
   "name": "python3"
  },
  "language_info": {
   "codemirror_mode": {
    "name": "ipython",
    "version": 3
   },
   "file_extension": ".py",
   "mimetype": "text/x-python",
   "name": "python",
   "nbconvert_exporter": "python",
   "pygments_lexer": "ipython3",
   "version": "3.11.9"
  }
 },
 "nbformat": 4,
 "nbformat_minor": 5
}
