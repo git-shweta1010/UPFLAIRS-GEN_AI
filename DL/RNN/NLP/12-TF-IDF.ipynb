{
 "cells": [
  {
   "cell_type": "code",
   "execution_count": null,
   "id": "5048eded",
   "metadata": {},
   "outputs": [],
   "source": [
    "##tf-idf vectorizer -- statistic measure of importance of a word in a document."
   ]
  },
  {
   "cell_type": "markdown",
   "id": "9c3a3a6a",
   "metadata": {},
   "source": [
    "<img src = \"tfidf.png\">"
   ]
  },
  {
   "cell_type": "code",
   "execution_count": null,
   "id": "161884d7",
   "metadata": {},
   "outputs": [],
   "source": [
    "# s1 - good boy \n",
    "# s2 - good girl\n",
    "# s3 - boy girl good "
   ]
  },
  {
   "cell_type": "code",
   "execution_count": null,
   "id": "d7415385",
   "metadata": {},
   "outputs": [],
   "source": [
    "##tf \n",
    "#           s1    s2          s3\n",
    "#good      1/2   1/2         1/3\n"
   ]
  },
  {
   "cell_type": "code",
   "execution_count": 2,
   "id": "1e0e0870",
   "metadata": {},
   "outputs": [
    {
     "data": {
      "text/html": [
       "<div>\n",
       "<style scoped>\n",
       "    .dataframe tbody tr th:only-of-type {\n",
       "        vertical-align: middle;\n",
       "    }\n",
       "\n",
       "    .dataframe tbody tr th {\n",
       "        vertical-align: top;\n",
       "    }\n",
       "\n",
       "    .dataframe thead th {\n",
       "        text-align: right;\n",
       "    }\n",
       "</style>\n",
       "<table border=\"1\" class=\"dataframe\">\n",
       "  <thead>\n",
       "    <tr style=\"text-align: right;\">\n",
       "      <th></th>\n",
       "      <th>boy</th>\n",
       "      <th>girl</th>\n",
       "      <th>good</th>\n",
       "    </tr>\n",
       "  </thead>\n",
       "  <tbody>\n",
       "    <tr>\n",
       "      <th>0</th>\n",
       "      <td>0.789807</td>\n",
       "      <td>0.000000</td>\n",
       "      <td>0.613356</td>\n",
       "    </tr>\n",
       "    <tr>\n",
       "      <th>1</th>\n",
       "      <td>0.000000</td>\n",
       "      <td>0.789807</td>\n",
       "      <td>0.613356</td>\n",
       "    </tr>\n",
       "    <tr>\n",
       "      <th>2</th>\n",
       "      <td>0.619805</td>\n",
       "      <td>0.619805</td>\n",
       "      <td>0.481334</td>\n",
       "    </tr>\n",
       "  </tbody>\n",
       "</table>\n",
       "</div>"
      ],
      "text/plain": [
       "        boy      girl      good\n",
       "0  0.789807  0.000000  0.613356\n",
       "1  0.000000  0.789807  0.613356\n",
       "2  0.619805  0.619805  0.481334"
      ]
     },
     "execution_count": 2,
     "metadata": {},
     "output_type": "execute_result"
    }
   ],
   "source": [
    "from sklearn.feature_extraction.text import TfidfVectorizer\n",
    "\n",
    "doc = [\"good boy\", \"good girl\", \"boy girl good\"]\n",
    "\n",
    "tfidf = TfidfVectorizer()\n",
    "tfidf_matrix = tfidf.fit_transform(doc)\n",
    "\n",
    "import pandas as pd \n",
    "df = pd.DataFrame(tfidf_matrix.toarray(), columns=tfidf.get_feature_names_out())\n",
    "df"
   ]
  },
  {
   "cell_type": "code",
   "execution_count": null,
   "id": "75cef5c4",
   "metadata": {},
   "outputs": [],
   "source": []
  },
  {
   "cell_type": "code",
   "execution_count": null,
   "id": "16fb6dbe",
   "metadata": {},
   "outputs": [],
   "source": []
  }
 ],
 "metadata": {
  "kernelspec": {
   "display_name": "Python 3",
   "language": "python",
   "name": "python3"
  },
  "language_info": {
   "codemirror_mode": {
    "name": "ipython",
    "version": 3
   },
   "file_extension": ".py",
   "mimetype": "text/x-python",
   "name": "python",
   "nbconvert_exporter": "python",
   "pygments_lexer": "ipython3",
   "version": "3.11.9"
  }
 },
 "nbformat": 4,
 "nbformat_minor": 5
}
