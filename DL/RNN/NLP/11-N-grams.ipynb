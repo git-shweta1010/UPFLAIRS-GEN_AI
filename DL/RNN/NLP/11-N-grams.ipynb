{
 "cells": [
  {
   "cell_type": "code",
   "execution_count": null,
   "id": "99aa437d",
   "metadata": {},
   "outputs": [],
   "source": [
    "## n -gram \n",
    "##types -- unigram , bigram , trigram , n-gram"
   ]
  },
  {
   "cell_type": "code",
   "execution_count": null,
   "id": "88843258",
   "metadata": {},
   "outputs": [],
   "source": [
    "## the food is good ---s1 --  foood good \n",
    "##the food is not good  ---s2 --- food not good \n",
    "\n",
    "##after pre processing and tokenization\n",
    "##Unique words \n",
    "# ---> food     not     good "
   ]
  },
  {
   "cell_type": "code",
   "execution_count": null,
   "id": "2234cff5",
   "metadata": {},
   "outputs": [],
   "source": [
    "##unigram --- single words\n",
    "# food not good\n",
    "\n",
    "##bigram -- two words\n",
    "# food , not , good ,food good , food not , not good \n",
    "\n",
    "# [1, 0 ,1 ,1, 0 , 0 ]\n",
    "# [1,1,1,0,1,1]\n",
    "\n",
    "##trigram \n",
    "# food , not , good ,food good , food not , not good , food not good "
   ]
  },
  {
   "cell_type": "code",
   "execution_count": 1,
   "id": "ca1fb180",
   "metadata": {},
   "outputs": [],
   "source": [
    "import nltk \n",
    "from nltk.util import ngrams"
   ]
  },
  {
   "cell_type": "code",
   "execution_count": 3,
   "id": "4e111f0c",
   "metadata": {},
   "outputs": [
    {
     "name": "stdout",
     "output_type": "stream",
     "text": [
      "[('i', 'love'), ('love', 'learning'), ('learning', 'NLp'), ('NLp', 'with'), ('with', 'python')]\n"
     ]
    }
   ],
   "source": [
    "text  = \" i love learning NLp with python\"\n",
    "token = nltk.word_tokenize(text)\n",
    "trigrams = list(ngrams(token,2))\n",
    "print(trigrams)"
   ]
  },
  {
   "cell_type": "code",
   "execution_count": 8,
   "id": "be51f1fb",
   "metadata": {},
   "outputs": [
    {
     "data": {
      "text/plain": [
       "array(['learning nlp', 'love learning', 'nlp with', 'with python'],\n",
       "      dtype=object)"
      ]
     },
     "execution_count": 8,
     "metadata": {},
     "output_type": "execute_result"
    }
   ],
   "source": [
    "from sklearn.feature_extraction.text import CountVectorizer\n",
    "text  = [\"i love learning NLp with python\"]\n",
    "vectorizer = CountVectorizer(ngram_range=(2,2))   \n",
    "##2,2 = min range to max range \n",
    "##mixed n-grams -- 1,3 ---1,2 \n",
    "X=vectorizer.fit_transform(text)\n",
    "X.toarray()\n",
    "vectorizer.get_feature_names_out()\n",
    "# vectorizer.vocabulary_\n"
   ]
  },
  {
   "cell_type": "code",
   "execution_count": null,
   "id": "cf5f60e1",
   "metadata": {},
   "outputs": [],
   "source": []
  }
 ],
 "metadata": {
  "kernelspec": {
   "display_name": "Python 3",
   "language": "python",
   "name": "python3"
  },
  "language_info": {
   "codemirror_mode": {
    "name": "ipython",
    "version": 3
   },
   "file_extension": ".py",
   "mimetype": "text/x-python",
   "name": "python",
   "nbconvert_exporter": "python",
   "pygments_lexer": "ipython3",
   "version": "3.11.9"
  }
 },
 "nbformat": 4,
 "nbformat_minor": 5
}
