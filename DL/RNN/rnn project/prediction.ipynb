{
 "cells": [
  {
   "cell_type": "code",
   "execution_count": 1,
   "id": "e6e92027",
   "metadata": {},
   "outputs": [],
   "source": [
    "import numpy as np\n",
    "import tensorflow as tf\n",
    "from tensorflow.keras.datasets import imdb\n",
    "from tensorflow.keras.models import load_model\n",
    "from tensorflow.keras.preprocessing import sequence"
   ]
  },
  {
   "cell_type": "code",
   "execution_count": 4,
   "id": "16bca4e1",
   "metadata": {},
   "outputs": [],
   "source": [
    "#load the dataset \n",
    "word_index = imdb.get_word_index()\n",
    "reverse_word_index = {value: key for (key, value) in word_index.items()}"
   ]
  },
  {
   "cell_type": "code",
   "execution_count": 2,
   "id": "a9d08299",
   "metadata": {},
   "outputs": [
    {
     "name": "stderr",
     "output_type": "stream",
     "text": [
      "WARNING:absl:Compiled the loaded model, but the compiled metrics have yet to be built. `model.compile_metrics` will be empty until you train or evaluate the model.\n"
     ]
    },
    {
     "data": {
      "text/html": [
       "<pre style=\"white-space:pre;overflow-x:auto;line-height:normal;font-family:Menlo,'DejaVu Sans Mono',consolas,'Courier New',monospace\"><span style=\"font-weight: bold\">Model: \"sequential_5\"</span>\n",
       "</pre>\n"
      ],
      "text/plain": [
       "\u001b[1mModel: \"sequential_5\"\u001b[0m\n"
      ]
     },
     "metadata": {},
     "output_type": "display_data"
    },
    {
     "data": {
      "text/html": [
       "<pre style=\"white-space:pre;overflow-x:auto;line-height:normal;font-family:Menlo,'DejaVu Sans Mono',consolas,'Courier New',monospace\">┏━━━━━━━━━━━━━━━━━━━━━━━━━━━━━━━━━┳━━━━━━━━━━━━━━━━━━━━━━━━┳━━━━━━━━━━━━━━━┓\n",
       "┃<span style=\"font-weight: bold\"> Layer (type)                    </span>┃<span style=\"font-weight: bold\"> Output Shape           </span>┃<span style=\"font-weight: bold\">       Param # </span>┃\n",
       "┡━━━━━━━━━━━━━━━━━━━━━━━━━━━━━━━━━╇━━━━━━━━━━━━━━━━━━━━━━━━╇━━━━━━━━━━━━━━━┩\n",
       "│ embedding_5 (<span style=\"color: #0087ff; text-decoration-color: #0087ff\">Embedding</span>)         │ (<span style=\"color: #00d7ff; text-decoration-color: #00d7ff\">None</span>, <span style=\"color: #00af00; text-decoration-color: #00af00\">500</span>, <span style=\"color: #00af00; text-decoration-color: #00af00\">128</span>)       │     <span style=\"color: #00af00; text-decoration-color: #00af00\">1,280,000</span> │\n",
       "├─────────────────────────────────┼────────────────────────┼───────────────┤\n",
       "│ simple_rnn_5 (<span style=\"color: #0087ff; text-decoration-color: #0087ff\">SimpleRNN</span>)        │ (<span style=\"color: #00d7ff; text-decoration-color: #00d7ff\">None</span>, <span style=\"color: #00af00; text-decoration-color: #00af00\">128</span>)            │        <span style=\"color: #00af00; text-decoration-color: #00af00\">32,896</span> │\n",
       "├─────────────────────────────────┼────────────────────────┼───────────────┤\n",
       "│ dense_5 (<span style=\"color: #0087ff; text-decoration-color: #0087ff\">Dense</span>)                 │ (<span style=\"color: #00d7ff; text-decoration-color: #00d7ff\">None</span>, <span style=\"color: #00af00; text-decoration-color: #00af00\">1</span>)              │           <span style=\"color: #00af00; text-decoration-color: #00af00\">129</span> │\n",
       "└─────────────────────────────────┴────────────────────────┴───────────────┘\n",
       "</pre>\n"
      ],
      "text/plain": [
       "┏━━━━━━━━━━━━━━━━━━━━━━━━━━━━━━━━━┳━━━━━━━━━━━━━━━━━━━━━━━━┳━━━━━━━━━━━━━━━┓\n",
       "┃\u001b[1m \u001b[0m\u001b[1mLayer (type)                   \u001b[0m\u001b[1m \u001b[0m┃\u001b[1m \u001b[0m\u001b[1mOutput Shape          \u001b[0m\u001b[1m \u001b[0m┃\u001b[1m \u001b[0m\u001b[1m      Param #\u001b[0m\u001b[1m \u001b[0m┃\n",
       "┡━━━━━━━━━━━━━━━━━━━━━━━━━━━━━━━━━╇━━━━━━━━━━━━━━━━━━━━━━━━╇━━━━━━━━━━━━━━━┩\n",
       "│ embedding_5 (\u001b[38;5;33mEmbedding\u001b[0m)         │ (\u001b[38;5;45mNone\u001b[0m, \u001b[38;5;34m500\u001b[0m, \u001b[38;5;34m128\u001b[0m)       │     \u001b[38;5;34m1,280,000\u001b[0m │\n",
       "├─────────────────────────────────┼────────────────────────┼───────────────┤\n",
       "│ simple_rnn_5 (\u001b[38;5;33mSimpleRNN\u001b[0m)        │ (\u001b[38;5;45mNone\u001b[0m, \u001b[38;5;34m128\u001b[0m)            │        \u001b[38;5;34m32,896\u001b[0m │\n",
       "├─────────────────────────────────┼────────────────────────┼───────────────┤\n",
       "│ dense_5 (\u001b[38;5;33mDense\u001b[0m)                 │ (\u001b[38;5;45mNone\u001b[0m, \u001b[38;5;34m1\u001b[0m)              │           \u001b[38;5;34m129\u001b[0m │\n",
       "└─────────────────────────────────┴────────────────────────┴───────────────┘\n"
      ]
     },
     "metadata": {},
     "output_type": "display_data"
    },
    {
     "data": {
      "text/html": [
       "<pre style=\"white-space:pre;overflow-x:auto;line-height:normal;font-family:Menlo,'DejaVu Sans Mono',consolas,'Courier New',monospace\"><span style=\"font-weight: bold\"> Total params: </span><span style=\"color: #00af00; text-decoration-color: #00af00\">1,313,027</span> (5.01 MB)\n",
       "</pre>\n"
      ],
      "text/plain": [
       "\u001b[1m Total params: \u001b[0m\u001b[38;5;34m1,313,027\u001b[0m (5.01 MB)\n"
      ]
     },
     "metadata": {},
     "output_type": "display_data"
    },
    {
     "data": {
      "text/html": [
       "<pre style=\"white-space:pre;overflow-x:auto;line-height:normal;font-family:Menlo,'DejaVu Sans Mono',consolas,'Courier New',monospace\"><span style=\"font-weight: bold\"> Trainable params: </span><span style=\"color: #00af00; text-decoration-color: #00af00\">1,313,025</span> (5.01 MB)\n",
       "</pre>\n"
      ],
      "text/plain": [
       "\u001b[1m Trainable params: \u001b[0m\u001b[38;5;34m1,313,025\u001b[0m (5.01 MB)\n"
      ]
     },
     "metadata": {},
     "output_type": "display_data"
    },
    {
     "data": {
      "text/html": [
       "<pre style=\"white-space:pre;overflow-x:auto;line-height:normal;font-family:Menlo,'DejaVu Sans Mono',consolas,'Courier New',monospace\"><span style=\"font-weight: bold\"> Non-trainable params: </span><span style=\"color: #00af00; text-decoration-color: #00af00\">0</span> (0.00 B)\n",
       "</pre>\n"
      ],
      "text/plain": [
       "\u001b[1m Non-trainable params: \u001b[0m\u001b[38;5;34m0\u001b[0m (0.00 B)\n"
      ]
     },
     "metadata": {},
     "output_type": "display_data"
    },
    {
     "data": {
      "text/html": [
       "<pre style=\"white-space:pre;overflow-x:auto;line-height:normal;font-family:Menlo,'DejaVu Sans Mono',consolas,'Courier New',monospace\"><span style=\"font-weight: bold\"> Optimizer params: </span><span style=\"color: #00af00; text-decoration-color: #00af00\">2</span> (12.00 B)\n",
       "</pre>\n"
      ],
      "text/plain": [
       "\u001b[1m Optimizer params: \u001b[0m\u001b[38;5;34m2\u001b[0m (12.00 B)\n"
      ]
     },
     "metadata": {},
     "output_type": "display_data"
    }
   ],
   "source": [
    "##load the model \n",
    "model = load_model(\"rnn_imdb_model.h5\")\n",
    "model.summary()"
   ]
  },
  {
   "cell_type": "code",
   "execution_count": 3,
   "id": "628e6c20",
   "metadata": {},
   "outputs": [
    {
     "data": {
      "text/plain": [
       "[array([[ 0.00237371,  0.09279097, -0.07573932, ...,  0.01727783,\n",
       "         -0.0296106 ,  0.02998141],\n",
       "        [ 0.00430941, -0.00101581, -0.0539792 , ..., -0.01714084,\n",
       "         -0.03194426,  0.02000691],\n",
       "        [-0.02641821,  0.03918111,  0.0014522 , ...,  0.00929595,\n",
       "         -0.07411835, -0.0163654 ],\n",
       "        ...,\n",
       "        [ 0.03473037,  0.01386101,  0.01564957, ...,  0.04156508,\n",
       "         -0.0297573 ,  0.03541931],\n",
       "        [-0.01130625, -0.02681136, -0.04247725, ...,  0.01532533,\n",
       "         -0.01207935, -0.01453313],\n",
       "        [-0.03722304, -0.03441265,  0.00087375, ...,  0.05190066,\n",
       "          0.01097257,  0.03062616]], dtype=float32),\n",
       " array([[-0.05957512,  0.12011936,  0.02077707, ..., -0.14631902,\n",
       "         -0.12317003, -0.15060762],\n",
       "        [ 0.11337109, -0.02173864,  0.08217657, ..., -0.06213301,\n",
       "         -0.09360533, -0.05395477],\n",
       "        [-0.1193115 , -0.08559117,  0.08266846, ..., -0.14429805,\n",
       "         -0.02073206,  0.04946918],\n",
       "        ...,\n",
       "        [-0.01179993,  0.04711155, -0.13248314, ..., -0.08980091,\n",
       "          0.0513196 ,  0.00811475],\n",
       "        [-0.10605318,  0.16765988,  0.15005904, ...,  0.12992576,\n",
       "         -0.07988094,  0.05618826],\n",
       "        [ 0.09435531,  0.13169727,  0.00153916, ...,  0.14473762,\n",
       "          0.0668005 , -0.06349894]], dtype=float32),\n",
       " array([[ 0.06285658,  0.09928745,  0.05530918, ..., -0.01497558,\n",
       "          0.03619821,  0.0451958 ],\n",
       "        [ 0.09003106,  0.02398103, -0.1819055 , ...,  0.04295033,\n",
       "          0.02847779,  0.04299243],\n",
       "        [-0.08876286, -0.02896391, -0.0644103 , ..., -0.04405574,\n",
       "         -0.02781283, -0.16038547],\n",
       "        ...,\n",
       "        [-0.09467401,  0.03926032, -0.00694019, ...,  0.1842046 ,\n",
       "         -0.02560824, -0.0134245 ],\n",
       "        [ 0.00639817,  0.09458576,  0.03175617, ..., -0.02547391,\n",
       "          0.25198326,  0.12289755],\n",
       "        [ 0.1160451 ,  0.04558332, -0.07749733, ..., -0.02284099,\n",
       "         -0.02972182,  0.06735051]], dtype=float32),\n",
       " array([ 6.7037472e-05,  1.3430668e-02, -8.2219178e-03,  7.8358920e-03,\n",
       "        -4.6649212e-03,  1.5108926e-02,  2.4802396e-02,  5.8103758e-03,\n",
       "        -7.4789971e-03, -2.4214819e-02, -1.5507449e-02,  1.1095148e-02,\n",
       "         2.0129846e-02, -9.3750702e-03, -3.5340043e-03, -2.2131098e-02,\n",
       "        -3.0638231e-02,  1.3853653e-02, -3.1544035e-03, -9.4523225e-03,\n",
       "         1.8656829e-02, -1.6476824e-03,  3.9544407e-02, -1.3853710e-03,\n",
       "        -8.1996270e-04, -2.4271249e-04,  1.3281627e-02,  2.1725500e-02,\n",
       "         4.3311526e-04,  7.1216440e-03,  6.5618204e-03, -1.3317864e-02,\n",
       "         1.7725911e-02,  4.1403815e-02,  1.0782805e-02,  1.1874676e-02,\n",
       "         1.3918424e-02,  1.0105369e-02,  9.9386480e-03, -6.9982302e-04,\n",
       "         7.3592328e-03,  2.9576780e-02, -1.7556997e-02, -3.3048296e-03,\n",
       "        -5.2074944e-03, -1.6429344e-02, -2.0221958e-02,  1.8460006e-02,\n",
       "        -1.2910562e-02, -2.1403890e-02, -2.9553136e-02, -1.4481556e-02,\n",
       "         2.9165775e-02, -1.9617202e-02,  9.4575835e-03, -1.4793825e-02,\n",
       "         5.8737741e-04, -8.5179750e-03,  5.9428345e-03,  7.7189348e-04,\n",
       "         1.9923868e-03,  6.8912189e-03, -5.0537232e-03,  2.1974687e-03,\n",
       "         2.2775449e-02,  3.0368485e-03,  5.6732949e-03,  1.5365984e-02,\n",
       "        -9.8067112e-03, -1.1690541e-03,  6.5486208e-03,  1.9058323e-02,\n",
       "        -1.3270095e-02, -6.5644896e-03,  8.9762565e-03, -7.8120306e-03,\n",
       "         1.1107305e-02,  5.5463212e-03,  6.1812047e-03,  3.8653698e-03,\n",
       "         2.3171697e-03, -4.0409039e-03,  8.3109811e-03,  4.0709125e-03,\n",
       "        -8.7971799e-04,  4.8119584e-03,  1.5797814e-02,  4.9257576e-03,\n",
       "        -1.1963077e-02,  1.1766790e-02,  1.2301300e-02, -1.2643712e-03,\n",
       "        -1.1397866e-02, -6.6321986e-03, -7.1738157e-03, -5.0473483e-03,\n",
       "        -7.2692445e-04,  4.7207717e-03, -1.0852496e-02,  7.7686878e-03,\n",
       "         2.0282095e-02,  1.7779216e-02,  2.5493472e-03, -1.4529381e-02,\n",
       "         6.0340911e-03,  7.2588053e-05, -6.5873582e-03, -1.8304382e-02,\n",
       "        -1.2636877e-02,  1.1795742e-02,  1.7304709e-02,  6.7128222e-03,\n",
       "         1.8177571e-02,  6.9098677e-03,  1.7335227e-02,  1.1253479e-02,\n",
       "         1.3635537e-02, -8.2086343e-03,  1.5792688e-02,  1.5787927e-03,\n",
       "        -8.0694249e-03, -6.2888679e-03,  1.8103806e-02,  5.1364768e-03,\n",
       "         5.2189762e-03, -3.6408841e-03,  5.8124121e-03, -2.7548773e-03],\n",
       "       dtype=float32),\n",
       " array([[-0.15083292],\n",
       "        [ 0.22051069],\n",
       "        [ 0.09610966],\n",
       "        [ 0.14010406],\n",
       "        [-0.2508999 ],\n",
       "        [ 0.1457847 ],\n",
       "        [-0.18024169],\n",
       "        [ 0.20516157],\n",
       "        [ 0.08467145],\n",
       "        [-0.1528725 ],\n",
       "        [-0.34890342],\n",
       "        [ 0.01520984],\n",
       "        [ 0.19687909],\n",
       "        [-0.12809949],\n",
       "        [ 0.11804707],\n",
       "        [-0.20068717],\n",
       "        [-0.04961766],\n",
       "        [ 0.18685098],\n",
       "        [ 0.11142106],\n",
       "        [ 0.02543169],\n",
       "        [ 0.13891503],\n",
       "        [-0.19465367],\n",
       "        [ 0.20021926],\n",
       "        [-0.07403579],\n",
       "        [ 0.17398462],\n",
       "        [ 0.17640568],\n",
       "        [-0.04621177],\n",
       "        [ 0.0447199 ],\n",
       "        [-0.03006892],\n",
       "        [-0.13914467],\n",
       "        [ 0.12864241],\n",
       "        [-0.04886298],\n",
       "        [ 0.08231778],\n",
       "        [ 0.06075437],\n",
       "        [ 0.22965847],\n",
       "        [-0.04389179],\n",
       "        [-0.08974935],\n",
       "        [-0.05350664],\n",
       "        [-0.14617057],\n",
       "        [ 0.2099832 ],\n",
       "        [-0.20721078],\n",
       "        [ 0.04053962],\n",
       "        [ 0.13919182],\n",
       "        [ 0.18096292],\n",
       "        [-0.04794019],\n",
       "        [-0.2171476 ],\n",
       "        [-0.03159743],\n",
       "        [ 0.11811364],\n",
       "        [ 0.34458145],\n",
       "        [-0.05326054],\n",
       "        [-0.18962696],\n",
       "        [ 0.22086692],\n",
       "        [-0.05343599],\n",
       "        [ 0.04600249],\n",
       "        [ 0.01223992],\n",
       "        [ 0.14117582],\n",
       "        [ 0.12055428],\n",
       "        [-0.21996555],\n",
       "        [-0.18371542],\n",
       "        [ 0.02921111],\n",
       "        [-0.08313459],\n",
       "        [ 0.19077824],\n",
       "        [ 0.03967737],\n",
       "        [ 0.00616283],\n",
       "        [-0.22887546],\n",
       "        [ 0.22265844],\n",
       "        [ 0.21783893],\n",
       "        [ 0.19020274],\n",
       "        [-0.17324409],\n",
       "        [-0.02931231],\n",
       "        [-0.15438077],\n",
       "        [-0.15673359],\n",
       "        [ 0.06270576],\n",
       "        [-0.21870437],\n",
       "        [ 0.1172074 ],\n",
       "        [-0.12476721],\n",
       "        [-0.04456306],\n",
       "        [ 0.03249188],\n",
       "        [-0.07439142],\n",
       "        [-0.19758911],\n",
       "        [ 0.1851259 ],\n",
       "        [-0.1114934 ],\n",
       "        [ 0.19426312],\n",
       "        [ 0.13938458],\n",
       "        [ 0.09259532],\n",
       "        [-0.19328779],\n",
       "        [-0.18008062],\n",
       "        [-0.07535041],\n",
       "        [ 0.02764673],\n",
       "        [ 0.15595679],\n",
       "        [-0.12920713],\n",
       "        [ 0.00221488],\n",
       "        [-0.01624225],\n",
       "        [-0.13163939],\n",
       "        [ 0.11132797],\n",
       "        [-0.19541198],\n",
       "        [-0.07006989],\n",
       "        [ 0.04195341],\n",
       "        [-0.14316066],\n",
       "        [-0.1268837 ],\n",
       "        [-0.11055528],\n",
       "        [-0.07263716],\n",
       "        [ 0.06098216],\n",
       "        [ 0.08009806],\n",
       "        [ 0.14761612],\n",
       "        [-0.05948936],\n",
       "        [-0.06161157],\n",
       "        [-0.10603037],\n",
       "        [ 0.04455625],\n",
       "        [-0.17304626],\n",
       "        [-0.15662031],\n",
       "        [-0.20115593],\n",
       "        [-0.15627691],\n",
       "        [-0.2016825 ],\n",
       "        [ 0.29273248],\n",
       "        [ 0.12848897],\n",
       "        [-0.17151019],\n",
       "        [ 0.10747947],\n",
       "        [-0.12199539],\n",
       "        [ 0.11276582],\n",
       "        [-0.11739688],\n",
       "        [-0.18409534],\n",
       "        [ 0.08367244],\n",
       "        [ 0.16705441],\n",
       "        [-0.15869717],\n",
       "        [ 0.0734238 ],\n",
       "        [-0.22351332],\n",
       "        [-0.07787765]], dtype=float32),\n",
       " array([0.17876515], dtype=float32)]"
      ]
     },
     "execution_count": 3,
     "metadata": {},
     "output_type": "execute_result"
    }
   ],
   "source": [
    "model.get_weights()"
   ]
  },
  {
   "cell_type": "code",
   "execution_count": 5,
   "id": "2748524c",
   "metadata": {},
   "outputs": [],
   "source": [
    "## decode review function \n",
    "def decode_review(encoded_review):\n",
    "    return ' '.join([reverse_word_index.get(i-3, '?') for i in encoded_review])\n",
    "\n",
    "##function to preprocess user input \n",
    "def preprocess_user_input(user_input):\n",
    "    words = user_input.lower().split()\n",
    "    encoded_review = [word_index.get(word,2) + 3 for word in words]\n",
    "    padded_review = sequence.pad_sequences([encoded_review],maxlen=500)\n",
    "    return padded_review"
   ]
  },
  {
   "cell_type": "code",
   "execution_count": 6,
   "id": "7c0e3270",
   "metadata": {},
   "outputs": [],
   "source": [
    "##prediction function \n",
    "def predict_sentiment(review):\n",
    "    preprocessed_input = preprocess_user_input(review)\n",
    "    prediction = model.predict(preprocessed_input)\n",
    "    sentiment = \"Positive\" if prediction > 0.5 else \"Negative\"\n",
    "    return sentiment , prediction[0][0]"
   ]
  },
  {
   "cell_type": "code",
   "execution_count": 7,
   "id": "ba709ce7",
   "metadata": {},
   "outputs": [
    {
     "name": "stdout",
     "output_type": "stream",
     "text": [
      "\u001b[1m1/1\u001b[0m \u001b[32m━━━━━━━━━━━━━━━━━━━━\u001b[0m\u001b[37m\u001b[0m \u001b[1m0s\u001b[0m 242ms/step\n",
      "The review is Negative with a score of 0.42\n"
     ]
    }
   ],
   "source": [
    "##user input \n",
    "example_review = \"This movie was fantastic! The acting was great and the plot was thrilling.\"\n",
    "sentiment , score = predict_sentiment(example_review)\n",
    "print(f\"The review is {sentiment} with a score of {score:.2f}\")"
   ]
  },
  {
   "cell_type": "code",
   "execution_count": null,
   "id": "cb14b091",
   "metadata": {},
   "outputs": [],
   "source": []
  }
 ],
 "metadata": {
  "kernelspec": {
   "display_name": "Python 3",
   "language": "python",
   "name": "python3"
  },
  "language_info": {
   "codemirror_mode": {
    "name": "ipython",
    "version": 3
   },
   "file_extension": ".py",
   "mimetype": "text/x-python",
   "name": "python",
   "nbconvert_exporter": "python",
   "pygments_lexer": "ipython3",
   "version": "3.11.9"
  }
 },
 "nbformat": 4,
 "nbformat_minor": 5
}
